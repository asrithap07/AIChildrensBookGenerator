{
  "cells": [
    {
      "cell_type": "markdown",
      "metadata": {
        "id": "view-in-github",
        "colab_type": "text"
      },
      "source": [
        "<a href=\"https://colab.research.google.com/github/asrithap07/ChildrensBookGenerator/blob/main/TrainingDrSeussModel.ipynb\" target=\"_parent\"><img src=\"https://colab.research.google.com/assets/colab-badge.svg\" alt=\"Open In Colab\"/></a>"
      ]
    },
    {
      "cell_type": "markdown",
      "metadata": {
        "id": "KoNqC9E6K5dl"
      },
      "source": [
        "# Text Generation using GPT (Using Huggingface)"
      ]
    },
    {
      "cell_type": "markdown",
      "metadata": {
        "id": "BSqHIq-o5c6a"
      },
      "source": [
        "## Project Setup"
      ]
    },
    {
      "cell_type": "code",
      "execution_count": null,
      "metadata": {
        "colab": {
          "base_uri": "https://localhost:8080/"
        },
        "id": "eMksH89z5emh",
        "outputId": "5df439c2-d9e6-426a-ebae-b4ba2a021c78"
      },
      "outputs": [
        {
          "output_type": "stream",
          "name": "stdout",
          "text": [
            "\u001b[33mWARNING: Skipping transformers as it is not installed.\u001b[0m\u001b[33m\n",
            "\u001b[0m  Installing build dependencies ... \u001b[?25l\u001b[?25hdone\n",
            "  Getting requirements to build wheel ... \u001b[?25l\u001b[?25hdone\n",
            "  Preparing metadata (pyproject.toml) ... \u001b[?25l\u001b[?25hdone\n",
            "\u001b[2K     \u001b[90m━━━━━━━━━━━━━━━━━━━━━━━━━━━━━━━━━━━━━━━\u001b[0m \u001b[32m268.8/268.8 kB\u001b[0m \u001b[31m7.0 MB/s\u001b[0m eta \u001b[36m0:00:00\u001b[0m\n",
            "\u001b[2K     \u001b[90m━━━━━━━━━━━━━━━━━━━━━━━━━━━━━━━━━━━━━━━━\u001b[0m \u001b[32m7.8/7.8 MB\u001b[0m \u001b[31m73.7 MB/s\u001b[0m eta \u001b[36m0:00:00\u001b[0m\n",
            "\u001b[2K     \u001b[90m━━━━━━━━━━━━━━━━━━━━━━━━━━━━━━━━━━━━━━━━\u001b[0m \u001b[32m1.3/1.3 MB\u001b[0m \u001b[31m70.1 MB/s\u001b[0m eta \u001b[36m0:00:00\u001b[0m\n",
            "\u001b[?25h  Building wheel for transformers (pyproject.toml) ... \u001b[?25l\u001b[?25hdone\n",
            "\u001b[2K     \u001b[90m━━━━━━━━━━━━━━━━━━━━━━━━━━━━━━━━━━━━━━━\u001b[0m \u001b[32m244.2/244.2 kB\u001b[0m \u001b[31m6.4 MB/s\u001b[0m eta \u001b[36m0:00:00\u001b[0m\n",
            "\u001b[?25h"
          ]
        }
      ],
      "source": [
        "# Maybe use this:\n",
        "\n",
        "\n",
        "\n",
        "import locale\n",
        "def getpreferredencoding(do_setlocale = True):\n",
        "    return \"UTF-8\"\n",
        "locale.getpreferredencoding = getpreferredencoding\n",
        "\n",
        "!pip uninstall transformers\n",
        "!pip install -q git+https://github.com/huggingface/transformers\n",
        "!pip install -q accelerate"
      ]
    },
    {
      "cell_type": "code",
      "execution_count": null,
      "metadata": {
        "id": "6UPda3LTYYoo"
      },
      "outputs": [],
      "source": [
        "import torch\n",
        "import shutil\n",
        "from torch.utils.data import Dataset, random_split\n",
        "from transformers import Trainer, TrainingArguments, GPTNeoForCausalLM, GPT2Tokenizer\n",
        "\n",
        "\n",
        "from google.colab import drive\n"
      ]
    },
    {
      "cell_type": "markdown",
      "metadata": {
        "id": "AoZgQSdSedqa"
      },
      "source": [
        "## Data Preparation"
      ]
    },
    {
      "cell_type": "code",
      "execution_count": null,
      "metadata": {
        "id": "DWZAkEC3eicq"
      },
      "outputs": [],
      "source": [
        "# Load data into colab\n",
        "#!wget https://raw.githubusercontent.com/brunoklein99/deep-learning-notes/master/shakespeare.txt"
      ]
    },
    {
      "cell_type": "code",
      "execution_count": null,
      "metadata": {
        "id": "dvfjsVtte5Tm",
        "colab": {
          "base_uri": "https://localhost:8080/"
        },
        "outputId": "df84d181-c60d-4e4f-904c-337c92eee4a3"
      },
      "outputs": [
        {
          "output_type": "stream",
          "name": "stdout",
          "text": [
            "Mounted at /content/drive\n"
          ]
        }
      ],
      "source": [
        "# Connects colab to google drive\n",
        "drive.mount('/content/drive')"
      ]
    },
    {
      "cell_type": "code",
      "execution_count": null,
      "metadata": {
        "id": "IE_gu48efMGH"
      },
      "outputs": [],
      "source": [
        "#shutil.copy(\"/content/shakespeare.txt\",\"drive/MyDrive/AICamp/nlp\")\n"
      ]
    },
    {
      "cell_type": "code",
      "execution_count": null,
      "metadata": {
        "id": "6V9skOs9gwsc"
      },
      "outputs": [],
      "source": [
        "# Read the text file and returns list of lines in text\n",
        "def read_file(file_path):\n",
        "    with open(file_path) as f:\n",
        "        lines = [line for line in f]\n",
        "        # lines.remove(\"\")\n",
        "    return lines\n"
      ]
    },
    {
      "cell_type": "code",
      "execution_count": null,
      "metadata": {
        "id": "el_C875YhzPd",
        "colab": {
          "base_uri": "https://localhost:8080/"
        },
        "outputId": "8c33f665-c2b5-415d-fff6-16c0bc1fee0a",
        "cellView": "form"
      },
      "outputs": [
        {
          "output_type": "stream",
          "name": "stdout",
          "text": [
            "['The sun did not shine.\\nIt was too wet to play.\\nSo we sat in the house\\nAll that cold cold wet day.\\nI sat there with Sally.\\nWe sat there we two.\\nAnd I said How I wish\\nWe had something to do!\\n', 'And too cold to play ball.\\nSo we sat in the house.\\nWe did nothing at all.\\nSo all we could do was to\\nSit!\\nSit!\\nSit!\\nSit!\\n', 'Not one little bit.\\nBUMP!\\nAnd then\\nsomething went BUMP!\\nHow that bump made us jump!\\nWe looked!\\nThen we saw him step in on the mat!\\nWe looked!\\n', 'The Cat in the Hat!\\nAnd he said to us\\nWhy do you sit there like that?\\nI know it is wet\\nAnd the sun is not sunny.\\nBut we can have\\nLots of good fun that is funny!\\nI know some good games we could play\\n', 'I know some new tricks\\nSaid the Cat in the Hat.\\nA lot of good tricks.\\nI will show them to you.\\nYour mother\\nWill not mind at all if I do.\\nThen Sally and I\\nDid not know what to say.\\n', 'For the day.\\nBut our fish said No! No!\\nMake that cat go away!\\nTell that Cat in the Hat\\nYou do NOT want to play.\\nHe should not be here.\\nHe should not be about.\\nHe should not be here\\n', 'Now! Now! Have no fear.\\nHave no fear! said the cat.\\nMy tricks are not bad\\nSaid the Cat in the Hat.\\nWhy we can have\\nLots of good fun if you wish\\nwith a game that I call\\nUP UP UP with a fish!\\n', 'This is no fun at all!\\nPut me down! said the fish.\\nI do NOT wish to fall!\\nHave no fear! said the cat.\\nI will not let you fall.\\nI will hold you up high\\nAs I stand on a ball.\\nWith a book on one hand!\\n', 'But that is not ALL I can do!\\nSaid the cat\\nLook at me!\\nLook at me now! said the cat.\\nWith a cup and a cake\\nOn the top of my hat!\\nI can hold up TWO books!\\nI can hold up the fish!\\n', 'And some milk on a dish!\\nAnd look!\\nI can hop up and down on the ball!\\nBut that is not all!\\nOh no.\\nThat is not all\\nLook at me!\\nLook at me!\\n', 'It is fun to have fun\\nBut you have to know how.\\nI can hold up the cup\\nAnd the milk and the cake!\\nI can hold up these books!\\nAnd the fish on a rake!\\nI can hold the toy ship\\nAnd a little toy man!\\n', 'I can hold a red fan!\\nI can fan with the fan\\nAs I hop on the ball!\\nBut that is not all.\\nOh no.\\nThat is not all.\\nThat is what the cat said\\nThen he fell on his head!\\n', 'From up there on the ball.\\nAnd Sally and I\\nWe saw ALL the things fall!\\nAnd our fish came down too.\\nHe fell into a pot!\\nHe said Do I like this?\\nOh no! I do not.\\nThis is not a good game\\n', 'No I do not like it\\nNot one little bit!\\nNow look what you did!\\nSaid the fish to the cat.\\nNow look at this house!\\nLook at this! Look at that!\\nYou sank our toy ship\\nSank it deep in the cake.\\n', 'And you bent our new rake.\\nYou SHOULD NOT be here\\nWhen our mother is not.\\nYou get out of this house!\\nSaid the fish in the pot.\\nBut I like to be here.\\nOh I like it a lot!\\nSaid the Cat in the Hat\\n', 'I will NOT go away.\\nI do NOT wish to go!\\nAnd so said the Cat in the Hat\\nSo\\nso\\nso\\nI will show you\\nAnother good game that I know!\\n', 'And then fast as a fox\\nThe Cat in the Hat\\nCame back in with a box.\\nA big red wood box.\\nIt was shut with a hook.\\nNow look at this trick\\nSaid the cat.\\nTake a look!\\n', 'With a tip of his hat.\\nI call this game FUN IN A BOX\\nSaid the cat.\\nIn this box are two things\\nI will show to you now.\\nYou will like these two things\\nSaid the cat with a bow.\\nI will pick up the hook.\\n', 'Two things. And I call them\\nThing One and Thing Two.\\nThese Things will not bite you.\\nThey want to have fun.\\nThen out of the box\\nCame Thing Two and Thing One!\\nAnd they ran to us fast.\\nThey said How do you do?\\n', 'With Thing One and Thing Two?\\nAnd Sally and I\\nDid not know what to do.\\nSo we had to shake hands\\nWith Thing One and Thing Two.\\nWe shook their two hands.\\nBut our fish said No! No!\\nThose Things should not be\\n', 'They should not be here\\nWhen your mother is not!\\nPut them out! Put them out!\\nSaid the fish in the pot.\\nHave no fear little fish\\nSaid the Cat in the Hat.\\nThese Things are good Things.\\nAnd he gave them a pat.\\n', 'They have come here to play.\\nThey will give you some fun\\nOn this wet wet wet day.\\nNow here is a game that they like\\nSaid the cat.\\nThey like to fly kites\\nSaid the Cat in the Hat\\nNo! Not in the house!\\n', 'They should not fly kites\\nIn a house! They should not.\\nOh the things they will bump!\\nOh the things they will hit!\\nOh I do not like it!\\nNot one little bit! Then Sally and I\\nSaw them run down the hall.\\nWe saw those two Things\\n', 'Bump! Thump! Thump! Bump!\\nDown the wall in the hall.\\nThing Two and Thing One!\\nThey ran up! They ran down!\\nOn the string of one kite\\nWe saw Mothers new gown!\\nHer gown with the dots\\nThat are pink white and red.\\n', 'On the head of her bed!\\nThen those Things ran about\\nWith big bumps jumps and kicks\\nAnd with hops and big thumps\\nAnd all kinds of bad tricks.\\nAnd I said\\nI do NOT like the way that they play\\nIf Mother could see this\\n', 'Then our fish said Look! Look!\\nAnd our fish shook with fear.\\nYour mother is on her way home!\\nDo you hear?\\nOh what will she do to us?\\nWhat will she say?\\nOh she will not like it\\nTo find us this way!\\n', 'Do you hear!\\nI saw her. Your mother!\\nYour mother is near!\\nSo as fast as you can\\nThink of something to do!\\nYou will have to get rid of\\nThing One and Thing Two!\\nSo as fast as I could\\n', 'And I said With my net\\nI can get them I bet.\\nI bet with my net\\nI can get those Things yet!\\nThen I let down my net.\\nIt came down with a PLOP!\\nAnd I had them! At last!\\nThoe two Things had to stop.\\n', 'Now you do as I say.\\nYou pack up those Things\\nAnd you take them away!\\nOh dear! said the cat\\nYou did not like our game\\nOh dear.\\nWhat a shame!\\nWhat a shame!\\n', 'Then he shut up the Things\\nIn the box with the hook.\\nAnd the cat went away\\nWith a sad kind of look.\\nThat is good said the fish.\\nHe has gone away. Yes.\\nBut your mother will come.\\nShe will find this big mess!\\n', 'And so deep and so tall\\nWe ca not pick it up.\\nThere is no way at all!\\nAnd THEN!\\nWho was back in the house?\\nWhy the cat!\\nHave no fear of this mess\\nSaid the Cat in the Hat.\\n', 'And so\\nI will show you another\\nGood trick that I know!\\nThen we saw him pick up\\nAll the things that were down.\\nHe picked up the cake\\nAnd the rake and the gown\\nAnd the milk and the strings\\n', 'And the fan and the cup\\nAnd the ship and the fish.\\nAnd he put them away.\\nThen he said That is that.\\nAnd then he was gone\\nWith a tip of his hat.\\nThen our mother came in\\nAnd she said to us two\\n', 'Tell me. What did you do?\\nAnd Sally and I did not know\\nWhat to say.\\nShould we tell her\\nThe things that went on there that day?\\nShould we tell her about it?\\nNow what SHOULD we do?\\nWell\\n', 'If your mother asked YOU?\\nFox\\nSocks\\nBox\\nKnox\\nKnox in box.\\nFox in socks.\\nKnox on fox in socks in box.\\n', 'Fox in socks on box on Knox.\\nChicks with bricks come.\\nChicks with blocks come.\\nChicks with bricks and blocks and clocks come.\\nLook sir. Look sir. Mr. Knox sir.\\nLets do tricks with bricks and blocks sir.\\nLets do tricks with chicks and clocks sir.\\nFirst Ill make a quick trick brick stack.\\n', 'You can make a quick trick chick stack.\\nYou can make a quick trick clock stack.\\nAnd heres a new trick Mr. Knox.\\nSocks on chicks and chicks on fox.\\nFox on clocks on bricks and blocks.\\nBricks and blocks on Knox on box.\\nNow we come to ticks and tocks sir.\\nTry to say this Mr. Knox sir.\\n', 'Clocks on Knox tock.\\nSix sick bricks tick.\\nSix sick chicks tock.\\nPlease sir. I dont like this trick sir.\\nMy tongue isnt quick or slick sir.\\nI get all those ticks and clocks sir\\nmixed up with the chicks and tocks sir.\\nI cant do it Mr. Fox sir.\\n', 'Heres an easy game to play.\\nHeres an easy thing to say.\\nNew socks.\\nTwo socks.\\nWhose socks?\\nSues socks.\\nWho sews whose socks?\\nSue sews Sues socks.\\n', 'You see Sue sew Sues new socks sir.\\nThats not easy Mr. Fox sir.\\nWho comes?\\nCrow comes.\\nSlow Joe Crow comes.\\nWho sews crows clothes?\\nSue sews crows clothes.\\nSlow Joe Crow sews whose clothes?\\n', 'Sue sews socks of fox in socks now.\\nSlow Joe Crow sews Knox in box now.\\nSue sews rose on Slow Joe Crows clothes.\\nFox sews hose on Slow Joe Crows nose.\\nHose goes.\\nRose grows.\\nNose hose goes some.\\nCrows rose grows some.\\n', 'I hate this game sir.\\nThis game makes my tongue quite lame sir.\\nMr. Knox sir what a shame sir.\\nWell find something new to do now.\\nHere is lots of new blue goo now.\\nNew goo. Blue goo.\\nGooey. Gooey.\\nBlue goo. New goo.\\n', 'Gooey goo for chewy chewing!\\nThats what that Goo Goose is doing.\\nDo you choose to chew goo too sir?\\nIf sir you sir choose to chew sir\\nwith the Goo Goose chew sir.\\nDo sir.\\nMr. Fox sir\\nI wont do it.\\n', 'I wont chew it.\\nVery well sir.\\nStep this way.\\nWell find another game to play.\\nBim comes.\\nBen comes.\\nBim brings Ben broom.\\nBen brings Bim broom.\\n', 'Bim bends Bens broom.\\nBims bends.\\nBens bends.\\nBens bent broom breaks.\\nBims bent broom breaks.\\nBens band. Bims band.\\nBig bands. Pig bands.\\nBim and Ben lead bands with brooms.\\n', 'Pig band! Boom band!\\nBig band! Broom band!\\nMy poor mouth cant say that. No sir.\\nMy poor mouth is much too slow sir.\\nWell then bring your mouth this way.\\nIll find it something it can say.\\nLuke Luck likes lakes.\\nLukes duck likes lakes.\\n', 'Lucks duck licks lakes.\\nDuck takes licks in lakes Luke Luck likes.\\nLuke Luck takes licks in lakes duck likes.\\nI cant blab such blibber blubber!\\nMy tongue isnt make of rubber.\\nMr. Knox. Now come now. Come now.\\nYou dont have to be so dumb now.\\nTry to say this Mr. Knox please.\\n', 'While these fleas flew freezy breeze blew.\\nFreezy breeze made these three trees freeze.\\nFreezy trees made these trees cheese freeze.\\nThats what made these three free fleas sneeze.\\nStop it! Stop it!\\nThats enough sir.\\nI cant say such silly stuff sir.\\nVery well then Mr. Knox sir.\\n', 'What do you know about tweetle beetles? Well\\nWhen tweetle beetles fight\\nits called a tweetle beetle battle.\\nAnd when they battle in a puddle\\nits a tweetle beetle puddle battle.\\nAND when tweetle beetles battle with paddles in a puddle\\nthey call it a tweetle beetle puddle paddle battle.\\nAND\\n', 'and the beetle battle puddle is a puddle in a bottle\\nthey call this a tweetle beetle bottle puddle paddle battle muddle.\\nAND\\nWhen beetles fight these battles in a bottle with their paddles\\nand the bottles on a poodle and the poodles eating noodles\\nthey call this a muddle puddle tweetle poodle beetle noodle\\nbottle paddle battle.\\nAND\\n', 'When a fox is in the bottle where the tweetle beetles battle\\nwith their paddles in a puddle on a noodle eating poodle\\nTHIS is what they call\\na tweetle beetle noodle poodle bottled paddled\\nmuddled duddled fuddled wuddled fox in socks sir!\\nFox in socks our game is done sir.\\nThank you for a lot of fun sir.\\nI am Sam\\n', 'Sam I am\\nThat Sam I am\\nThat Sam I am!\\nI do not like\\nthat Sam I am\\nDo you like\\ngreen eggs and ham\\nI do not like them\\n', 'I do not like\\ngreen eggs and ham.\\nWould you like them\\nHere or there?\\nI would not like them\\nhere or there.\\nI would not like them\\nanywhere.\\n', 'green eggs and ham.\\nI do not like them\\nSam I am\\nWould you like them\\nin a house?\\nWould you like them\\nwith a mouse?\\nI do not like them\\n', 'I do not like them\\nwith a mouse.\\nI do not like them\\nhere or there.\\nI do not like them\\nanywhere.\\nI do not like green eggs and ham.\\nI do not like them Sam I am.\\n', 'in a box?\\nWould you eat them\\nwith a fox?\\nNot in a box.\\nNot with a fox.\\nNot in a house.\\nNot with a mouse.\\nI would not eat them here or there.\\n', 'I would not eat green eggs and ham.\\nI do not like them Sam I am.\\nWould you? Could you?\\nin a car?\\nEat them! Eat them!\\nHere they are.\\nI would not\\ncould not\\n', 'You may like them.\\nYou will see.\\nYou may like them\\nin a tree?\\nd not in a tree.\\nI would not could not in a tree.\\nNot in a car! You let me be.\\nI do not like them in a box.\\n', 'I do not like them in a house\\nI do mot like them with a mouse\\nI do not like them here or there.\\nI do not like them anywhere.\\nI do not like green eggs and ham.\\nI do not like them Sam I am.\\nA train! A train!\\nA train! A train!\\n', 'on a train?\\nNot on a train! Not in a tree!\\nNot in a car! Sam! Let me be!\\nI would not could not in a box.\\nI could not would not with a fox.\\nI will not eat them with a mouse\\nI will not eat them in a house.\\nI will not eat them here or there.\\n', 'I do not like them Sam I am.\\nSay!\\nIn the dark?\\nHere in the dark!\\nWould you could you in the dark?\\nI would not could not\\nin the dark.\\nWould you could you\\n', 'I would not could not in the rain.\\nNot in the dark. Not on a train\\nNot in a car Not in a tree.\\nI do not like them Sam you see.\\nNot in a house. Not in a box.\\nNot with a mouse. Not with a fox.\\nI will not eat them here or there.\\nI do not like them anywhere!\\n', 'green eggs and ham?\\nI do not\\nlike them\\nSam I am.\\nCould you would you\\nwith a goat?\\nI would not\\ncould not.\\n', 'Would you could you\\non a boat?\\nI could not would not on a boat.\\nI will not will not with a goat.\\nI will not eat them in the rain.\\nI will not eat them on a train.\\nNot in the dark! Not in a tree!\\nNot in a car! You let me be!\\n', 'I do not like them with a fox.\\nI will not eat them in a house.\\nI do not like them with a mouse.\\nI do not like them here or there.\\nI do not like them ANYWHERE!\\nI do not like\\ngreen eggs\\nand ham!\\n', 'Sam I am.\\nYou do not like them.\\nSO you say.\\nTry them! Try them!\\nAnd you may.\\nTry them and you may I say.\\nSam!\\nIf you will let me be\\n', 'You will see.\\nSay!\\nI like green eggs and ham!\\nI do!! I like them Sam I am!\\nAnd I would eat them in a boat!\\nAnd I would eat them with a goat\\nAnd I will eat them in the rain.\\nAnd in the dark. And on a train.\\n', 'They are so good so good you see!\\nSo I will eat them in a box.\\nAnd I will eat them with a fox.\\nAnd I will eat them in a house.\\nAnd I will eat them with a mouse.\\nAnd I will eat them here and there.\\nSay! I will eat them ANYWHERE!\\nI do so like\\n', 'Thank you!\\nThank you\\nSam I am\\nEvery Who Down in Whoville Liked Christmas a lot\\nBut the GrinchWho lived just north of Whoville Did NOT!\\nThe Grinch hated Christmas! The whole Christmas season!\\nNow please dont ask why. No one quite knows the reason.\\nIt could be his head wasnt screwed on just right.\\n', 'But I think that the most likely reason of all\\nMay have been that his heart was two sizes too small.\\nWhatever the reason His heart or his shoes\\nHe stood there on Christmas Eve hating the Whos\\nStaring down from his cave with a sour Grinchy frown\\nAt the warm lighted windows below in their town.\\nFor he knew every Who down in Whoville beneath\\nWas busy now hanging a mistletoe wreath.\\n', 'Tomorrow is Christmas! Its practically here!\\nThen he growled with his Grinch fingers nervously drumming\\nI MUST find some way to stop Christmas from coming!\\nFor Tomorrow he knew all the Who girls and boys\\nWould wake bright and early. Theyd rush for their toys!\\nAnd then! Oh the noise! Oh the Noise!\\nNoise! Noise! Noise!\\nThats one thing he hated! The NOISE!\\n', 'Then the Whos young and old would sit down to a feast.\\nAnd theyd feast! And theyd feast! And theyd FEAST!\\nFEAST! FEAST! FEAST!\\nThey would feast on Who pudding and rare Who roast beast.\\nWhich was something the Grinch couldnt stand in the least!\\nAnd THEN Theyd do something He liked least of all!\\nEvery Who down in Whoville the tall and the small\\nWould stand close together with Christmas bells ringing.\\n', 'Theyd sing! And theyd sing! And theyd SING!\\nSING! SING! SING!\\nAnd the more the Grinch thought of this Who ChristmasSing\\nThe more the Grinch thought I must stop this whole thing!\\nWhy for fifty three years Ive put up with it now!\\nI MUST stop this Christmas from coming! But HOW?\\nThen he got an idea! An awful idea!\\nTHE GRINCH GOT A WONDERFUL AWFUL IDEA!\\n', 'And he made a quick Santy Claus hat and a coat.\\nAnd he chuckled and clucked What a great Grinchy trick!\\nWith this coat and this hat I look just like Saint Nick!\\nAll I need is a reindeer The Grinch looked around.\\nBut since reindeer are scarce there was none to be found.\\nDid that stop the old Grinch? No! The Grinch simply said\\nIf I cant find a reindeer Ill make one instead!\\nSo he called his dog Max. Then he took some red thread\\n', 'THEN He loaded some bags And some old empty sacks\\nOn a ramshackle sleigh And he hitched up old Max.\\nThen the Grinch said Giddap! And the sleigh started down\\nToward the homes where the Whos Lay asnooze in their town.\\nAll their windows were dark. Quiet snow filled the air.\\nAll the Whos were all dreaming sweet dreams without care.\\nWhen he came to the first little house on the square.\\nThis is stop number one the old Grinchy Claus hissed\\n', 'Then he slid down the chimney. A rather tight pinch.\\nBut if Santa could do it then so could the Grinch.\\nHe got stuck only once for a moment or two.\\nThen he stuck his head out of the fireplace flue.\\nWhere the little Who stockings all hung in a row.\\nThese stockings he grinned are the first things to go!\\nThen he slithered and slunk with a smile most unpleasant\\nAround the whole room and he took every present!\\n', 'Checkerboards! Tricycles! Popcorn! And plums!\\nAnd he stuffed them in bags. Then the Grinch very nimbly\\nStuffed all the bags one by one up the chimney!\\nThen he slunk to the icebox. He took the Whos feast!\\nHe took the Who pudding! He took the roast beast!\\nHe cleaned out that icebox as quick as a flash.\\nWhy that Grinch even took their last can of Who hash!\\nThen he stuffed all the food up the chimney with glee.\\n', 'And the Grinch grabbed the tree and he started to shove\\nWhen he heard a small sound like the coo of a dove.\\nHe turned around fast and he saw a small Who!\\nLittle Cindy Lou Who who was not more than two.\\nThe Grinch had been caught by this tiny Who daughter\\nWhod got out of bed for a cup of cold water.\\nShe stared at the Grinch and said Santy Claus why????????????\\nWhy are you taking our Christmas tree? WHY?\\n', 'He thought up a lie and he thought it up quick!\\nWhy my sweet little tot the fake Santy Claus lied\\nTheres a light on this tree that wont light on one side.\\nSo Im taking it home to my workshop my dear.\\nIll fix it up there. Then Ill bring it back here.\\nAnd his fib fooled the child. Then he patted her head\\nAnd he got her a drink and he sent her to bed.\\nAnd when CindyLou Who went to bed with her cup\\n', 'Then the last thing he took Was the log for their fire!\\nThen he went up the chimney himself the old liar.\\nOn their walls he left nothing but hooks and some wire.\\nAnd the one speck of food That he left in the house\\nWas a crumb that was even too small for a mouse.\\nThen He did the same thing To the other Whos houses\\nLeaving crumbs Much too small For the other Whos mouses!\\nIt was quarter past dawn All the Whos still a bed\\n', 'Packed it up with their presents! The ribbons! The wrappings!\\nThe tags! And the tinsel! The trimmings! The trappings!\\nThree thousand feet up! Up the side of Mt. Crumpit\\nHe rode with his load to the tiptop to dump it!\\nPoohPooh to the Whos! he was grinchishly humming.\\nTheyre finding out now that no Christmas is coming!\\nTheyre just waking up! I know just what theyll do!\\nTheir mouths will hang open a minute or two\\n', 'Thats a noise grinned the Grinch That I simply MUST hear!\\nSo he paused. And the Grinch put his hand to his ear.\\nAnd he did hear a sound rising over the snow.\\nIt started in low. Then it started to grow.\\nBut the sound wasnt sad! Why this sound sounded merry!\\nIt couldnt be so! But it WAS merry! VERY!\\nHe stared down at Whoville! The Grinch popped his eyes!\\nThen he shook! What he saw was a shocking surprise!\\n', 'Was singing! Without any presents at all!\\nHe HADNT stopped Christmas from coming! IT CAME!\\nSomehow or other it came just the same!\\nAnd the Grinch with his grinch feet ice cold in the snow\\nStood puzzling and puzzling: How could it be so?\\nIt came with out ribbons! It came without tags!\\nIt came without packages boxes or bags!\\nAnd he puzzled three hours till his puzzler was sore.\\n', 'Maybe Christmas he thought doesnt come from a store.\\nMaybe Christmas perhaps means a little bit more!\\nAnd what happened then? Wellin Whoville they say\\nThat the Grinchs small heart Grew three sizes that day!\\nAnd the minute his heart didnt feel quite so tight\\nHe whizzed with his load through the bright morning light\\nAnd he brought back the toys! And the food for the feast!\\nAnd he HE HIMSELF! The Grinch carved the roast beast!\\n', 'CUP PUP Pup in cup.\\nPUP CUP Cup on pup.\\nMOUSE HOUSE Mouse on house.\\nHOUSE MOUSE House on mouse.\\nALL TALL We all are tall.\\nALL SMALL We all are small.\\nALL BALL We all play ball.\\nBALL WALL Up on a wall.\\n', 'DAY PLAY We play all day.\\nNIGHT FIGHT We fight all night.\\nHE ME He is after me.\\nHIM JIM Jim is after him.\\nSEE BEE We see a bee.\\nSEE BEE THREE Now we see three.\\nTHREE TREE Three fish in a tree.\\nFish in a tree? How can that be?\\n', 'RED BED I am in bed.\\nRED NED TED and ED in BED\\nPAT PAT they call him Pat.\\nPAT SAT Pat sat on hat.\\nPAT CAT Pat sat on cat.\\nPAT BAT Pat sat on bat.\\nNO PAT NO Don?????????????????? sit on that.\\nSAD DAD BAD HAD Dad is sad.\\n', 'He had a bad day. What a day Dad had!\\nTHING THING What is that thing? THING SING That thing can sing!\\nSONG LONG A long long song.\\nGood by Thing. You sing too long.\\nWALK WALK We like to walk.\\nWALK TALK We like to talk.\\nHOP POP We like to hop.\\nWe like to hop on top of Pop.\\n', 'Mr. BROWN Mrs. BROWN\\nMr. Brown upside down.\\nPup up. Brown down.\\nPup is down. Where is Brown?\\nWHERE IS BROWN? THERE IS BROWN!\\nMr. Brown is out of town.\\nBACK BLACK Brown came back. Brown came back with Mr. Black.\\nSNACK SNACK Eat a snack.\\n', 'JUMP BUMP He jumped. He bumped.\\nFAST PAST He went past fast.\\nWENT TENT SENT He went into the tent.\\nI sent him out of the tent.\\nWET GET Two dogs get wet.\\nHELP YELP They yelp for help.\\nHILL WILL Will went up hill.\\nWILL HILL STILL Will is up hill still.\\n', 'That one is my other brother.\\nMy brothers read a little bit.\\nLittle words like If and it.\\nMy father can read big words too.\\nLike CONSTANTINOPLE and TIMBUKTU\\nSAY SAY What does this say?\\nseehemewepatpup pop\\nhethreetreebee\\n', 'Ask me tomorrow but not today.\\nOne fish Two fish Red fish Blue fish\\nBlack fish Blue fish Old fish New fish.\\nThis one has a little car.\\nThis one has a little star.\\nSay! What a lot of fish there are.\\nYes. Some are red and some are blue.\\nSome are old and some are new.\\n', 'And some are very very bad.\\nWhy are they sad and glad and bad?\\nI do not know go ask your dad.\\nSome are thin and some are fat.\\nThe fat one has a yellow hat.\\nFrom there to here\\nFrom here to there\\nFunny things are everywhere.\\n', 'They run for fun in the hot hot sun.\\nOh me! Oh my! Oh me! oh my!\\nWhat a lot of funny things go by.\\nSome have two feet and some have four.\\nSome have six feet and some have more.\\nWhere do they come from? I cant say.\\nBut I bet they have come a long long way.\\nwe see them come we see them go.\\n', 'Some are high. Some are low.\\nNot one of them is like another.\\nDont ask us why go ask your mother.\\nSay! Look at his fingers!\\nOne two three\\nHow many fingers do I see?\\nOne two three four\\nfive six seven eight nine ten.\\n', 'Eleven! This is something new.\\nI wish I had eleven too!\\nBump! Bump! Bump!\\nDid you ever ride a Wump?\\nWe have a Wump with just one hump.\\nBut we know a man called Mr. Gump.\\nMr. gump has a seven hump Wump. So\\nIf you like to go Bump! Bump!\\n', 'Who am I? My name is Ned\\nI do not like my little.\\nThis is no good. This is not right.\\nMy feet stick out of bed all night.\\nAnd when I pull them in Oh Dear!\\nMy head sticks out of bed up here!\\nWe like our bike. It is made for three.\\nOur Mike sits up in back you see.\\n', 'Mike does all the work when the hills get high.\\nHello there Ned. How do you do?\\nTell me tell me what is new?\\nHow are things in your little bed?\\nWhat is new? Please tell me Ned.\\nI do not like this bed at all.\\na lot of things have come to call.\\nA cow a dog a cat a mouse.\\n', 'Oh dear oh dear! I cannot hear.\\nWill you please come over near?\\nWill you please look in my ear?\\nThere must be something there I fear.\\nSay look! A bird was in your ear.\\nBut he is out. So have no fear.\\nAgain your ear can hear my dear.\\nMy hat is old my teeth are gold.\\n', 'My shoe is off my foot is cold.\\nMy shoe is off my foot is cold.\\nI have a bird I like to hold.\\nMy hat is old my teeth are gold.\\nAnd now my story is all told.\\nWe took a look. We saw a Nook.\\nOn his head he had a hook.\\nOn his hook he had a book.\\n', 'We saw him sit and try to cook\\nBut a Nook cant read so a Nook cant Cook.\\nSO\\nWhat good to a Nook is a hook cook book?\\nthe moon was out and we saw some sheep.\\nWe saw some sheep take a walk in their sleep.\\nby the light of the moon by the light of a star;\\nThey walked all night from near to far.\\n', 'I do not like this one so well.\\nall he does is yell yell yell.\\nI will not have this one about.\\nWhen he comes in I put him out.\\nThis one is quiet as a mouse.\\nI like to have him in the house.\\nAt our house we open cans.\\nWe have to open many cans.\\n', 'A Zans for cans is very good.\\nHave you a Zans for cans? You should.\\nI like to box. How I like to box.\\nSo every day I box a Gox.\\nIn yellow socks I box my Gox.\\nI box in yellow Gox box socks.\\nIt is fun to sing if you sing with a Ying.\\nMy Ying can sing like anything.\\n', 'And we are not too bad you know.\\nthis one I think is called a Yink.\\nhe likes to wink he likes to drink.\\nHe likes to drink and drink and drink.\\nthe thing he likes to drink is ink.\\nThe ink he likes to drink is pink.\\nHe likes to wink and drink pink ink.\\nSO\\n', 'you should get a Yink I think.\\nHop hop hop! I am a Yop\\nAll I like to do is hop\\nFrom finger top to finger top.\\nI hop from left to right and then\\nHop hop! I hop right back again.\\nI like to hop all day and night.\\nFrom right to left and left to right.\\n', 'I do not know. Go ask your Pop.\\nBrush brush brush brush\\nComb comb comb comb\\nBlue hair is fun to brush and comb.\\nAll girls who like to brush and comb\\nShould have a pet like this at home.\\nWho is this pet? Say! He is wet.\\nYou never yet met a pet I bet\\n', 'Did you ever fly a kite in bed?\\ndid you ever walk with ten cats on your head?\\nDid you ever milk this kind of cow?\\nWell we can do it. We know how.\\nIf you never did you should.\\nThese things are fun and fun is good.\\nHello hello. Are you there?\\nHello! I called you up to say hello.\\n', 'Can you hear me Joe?\\nOh no I cannot hear your call.\\nI cannot hear your call at all.\\nThis is not good and I know why.\\nA mouse has cut the wire goodbye!\\nFrom near to far from here to there\\nFunny things are everywhere.\\nThese yellow pets are called the Zeds.\\n', 'Their hair grows fast. So fast they say\\nThey need a haircut every day.\\nWho am I? My name is Ish\\nOn my hand I have a dish.\\nI have this dish to help me wish.\\nWhen I wish to make a wish\\nI wave my hand with a big swish swish.\\nThen I say I wish for fish!\\n', 'So\\nIf you wish to make a wish\\nyou may swish for fish with my Ish wish dish.\\nAt our house we play out back.\\nWe play a game called ring the Gack.\\nWould you like to play this game?\\nCome down! We have the only Gack in town.\\nLook what we found in the park in the dark.\\n', 'He will live at our house he will grow and grow.\\nWill our mother like this? We dont know.\\nAnd now Good night.\\nIt is time to sleep\\nSo we will sleep with our pet Zeep.\\nToday is gone. Today was fun.\\nTomorrow is another one.\\nEvery day from here to there.\\n']\n"
          ]
        }
      ],
      "source": [
        "# @title\n",
        "file_path = \"drive/MyDrive/AICamp/nlp/Datasets/dr-seuss-with-no-titles.txt\"\n",
        "\n",
        "\n",
        "\n",
        "new_text = []\n",
        "\n",
        "\n",
        "texts = read_file(file_path)\n",
        "\n",
        "\n",
        "line_count = 0\n",
        "\n",
        "paragraphs = []\n",
        "paragraph = []\n",
        "for text in texts:\n",
        "  if line_count < 8:\n",
        "    line_count += 1\n",
        "    paragraph.append(text)\n",
        "  else:\n",
        "    paragraphs.append(''.join(paragraph))\n",
        "    line_count = 0\n",
        "    paragraph = []\n",
        "\n",
        "print(paragraphs)\n",
        "# Remove unnecessary texts\n"
      ]
    },
    {
      "cell_type": "code",
      "execution_count": null,
      "metadata": {
        "id": "2nEZwhmhmBbc",
        "colab": {
          "base_uri": "https://localhost:8080/"
        },
        "outputId": "63719de6-00be-4cd9-cbbf-8aed9cf71f84"
      },
      "outputs": [
        {
          "output_type": "stream",
          "name": "stdout",
          "text": [
            "111\n",
            "111\n"
          ]
        }
      ],
      "source": [
        "# Prepare paragraphs\n",
        "datas = paragraphs\n",
        "print(len(datas))\n",
        "for data in datas:\n",
        "  if len(data)<1:\n",
        "    datas.remove(data)\n",
        "print(len(datas))"
      ]
    },
    {
      "cell_type": "code",
      "execution_count": null,
      "metadata": {
        "id": "FRVhqfCSgIOt"
      },
      "outputs": [],
      "source": [
        "# Custome dataset class to load dataset\n",
        "class DrSeussDataset(Dataset):\n",
        "    def __init__(self, txt_list, tokenizer, max_length):\n",
        "        self.input_ids = []\n",
        "        self.attn_masks = []\n",
        "        self.labels = []\n",
        "        for txt in txt_list:\n",
        "            # Encode the descriptions using the GPT-Neo tokenizer\n",
        "            encodings_dict = tokenizer('<|startoftext|>'\n",
        "                                        + txt +\n",
        "                                        '<|endoftext|>',\n",
        "                                        truncation=True,\n",
        "                                        max_length=max_length,\n",
        "                                            padding=\"max_length\")\n",
        "            input_ids = torch.tensor(encodings_dict['input_ids'])\n",
        "            self.input_ids.append(input_ids)\n",
        "            mask = torch.tensor(encodings_dict['attention_mask'])\n",
        "            self.attn_masks.append(mask)\n",
        "\n",
        "    def __len__(self):\n",
        "        return len(self.input_ids)\n",
        "\n",
        "    def __getitem__(self, idx):\n",
        "        return self.input_ids[idx], self.attn_masks[idx]"
      ]
    },
    {
      "cell_type": "markdown",
      "metadata": {
        "id": "YyWp2-T5jU1D"
      },
      "source": [
        "## Initialize tokenizer, model"
      ]
    },
    {
      "cell_type": "code",
      "execution_count": null,
      "metadata": {
        "id": "lwve_LeijIrB",
        "colab": {
          "base_uri": "https://localhost:8080/",
          "height": 244,
          "referenced_widgets": [
            "9d04491d75ee4787a09ef49dd934d09a",
            "cf3a479514ff47dd908e0d7f65278f63",
            "4e8fb8b7c1364488b31a553a8c4d613b",
            "f0241732f7d54e7298a2e747117a280f",
            "94300b04d0ec4dcdb93e04cd2ff1cc12",
            "194bf0471824423e90ef185ef18251b9",
            "e23b2acf8c644927b8914867860949d9",
            "01aba2a9fd8747d896d7d51006abbf94",
            "b43e77ea034a44be932c382a08e963b8",
            "e494dc219b564a63b1075e5ef7a2b35b",
            "41e96f1e9ef34dae9a5723b8538df7d2",
            "9d1091e4c3f44c0e9b57737c73243e65",
            "4a640cbea9af4fdc8c290d821523abfe",
            "82c301054ebc48faa18df0b5de20919c",
            "b89da8ee64a94d4d84346d813deb9709",
            "e96947a6e82341cbb45a5ab73136d198",
            "138d937b23664faaa987c51f563cba81",
            "e8fcd9472a7246b3920e711a23423030",
            "fca57e3781cd498c86fcffbb731dd166",
            "3a9b9fafe24d4363be43015293aaed76",
            "9664846a0f87415d9bd877c33df4745c",
            "9ed21d31bc364a8589cf445a9f54bddd",
            "61e66da444bb4476b0a27bb3bbf0f939",
            "56cd9ab9ed344563853497938fe72982",
            "e9beaa3727c7459882acb3c5162e9844",
            "90822442ad8f40b98372c07a7f2d8a70",
            "4277aa72d17745e08450d3888a20bd98",
            "69465bfbf0534d848e19e213e306f6c3",
            "bce9eae191dd4f6e8c3aaf26173e4dbd",
            "38abeee0b2ea45bbbd8066a44a7f230e",
            "9decf9b4df674ad082e08cb9821e7569",
            "51bf42911eeb4f17b38d60a82496541e",
            "ce25f93ea81e49aea46c3cfeb1ac5bd6",
            "06fcb2862a7043cdab98e2f36fc05fe4",
            "3263ebeb40604ac4b475b6b35b5c6668",
            "0df1004b0e134751bc554798b27aea6b",
            "480596951ddb471893d1efb94bb9971c",
            "3d846d7e18254e32b25769166d84540a",
            "beafe85f63c348038ad80dbb84243733",
            "76626c00028644cbbef45761f69f0b62",
            "69517e568b9642f495d8602eb50c915d",
            "5a604939ca6f40e6bc84875dcc62e7cf",
            "019e3692fa66469b8cb520d4459cf4ae",
            "a5765ae4a1234aee84a97e876e08663f",
            "3fb5def8241342f687327cde5c446c99",
            "85c872e4063842d5829643c0c3809d00",
            "d9b3ccd2fb9243aa94882c0428e4193d",
            "73d6c2db63df4cf88dd53ddf756964b3",
            "115267bfdca84430a2980e6d6d362322",
            "393753d96d0b412fab48c20f2094fca4",
            "4e7062682b204a6ebbb5b6945f5bff94",
            "7b252eb61bb1423c8429f1bcee6e1284",
            "be83102e6613464fbfea15ed375a1fdf",
            "29165ba922d7481a8ac34f79aae6c292",
            "7cf9b8ef50724fd787842eb06138d010",
            "941603872c7b4bd585bff5f50b5ea9ac",
            "9188ad9b52a54e9e84525f478b15ff96",
            "7380398e18ce4151892a86d76d4fc69f",
            "ec4abf8f06784ab5bceec0b9711c2a2f",
            "7ebb54f9f4044e69891ef42133111784",
            "f6535ea00ebd4eb48e930eb32559732b",
            "86fc2d1e85c34f53916e98b48eae170f",
            "906e606ceac944b98798f0194ce5a123",
            "a76cfe9bb22c423783208df9771891e4",
            "5b7db285f672446a9561e503b9a66a63",
            "2f0bb96b7aa3406f85a5bfa46c1a791a"
          ]
        },
        "outputId": "c0a1a7fc-4922-4cbc-c928-4a3273255753"
      },
      "outputs": [
        {
          "output_type": "display_data",
          "data": {
            "text/plain": [
              "Downloading (…)olve/main/vocab.json:   0%|          | 0.00/899k [00:00<?, ?B/s]"
            ],
            "application/vnd.jupyter.widget-view+json": {
              "version_major": 2,
              "version_minor": 0,
              "model_id": "9d04491d75ee4787a09ef49dd934d09a"
            }
          },
          "metadata": {}
        },
        {
          "output_type": "display_data",
          "data": {
            "text/plain": [
              "Downloading (…)olve/main/merges.txt:   0%|          | 0.00/456k [00:00<?, ?B/s]"
            ],
            "application/vnd.jupyter.widget-view+json": {
              "version_major": 2,
              "version_minor": 0,
              "model_id": "9d1091e4c3f44c0e9b57737c73243e65"
            }
          },
          "metadata": {}
        },
        {
          "output_type": "display_data",
          "data": {
            "text/plain": [
              "Downloading (…)cial_tokens_map.json:   0%|          | 0.00/357 [00:00<?, ?B/s]"
            ],
            "application/vnd.jupyter.widget-view+json": {
              "version_major": 2,
              "version_minor": 0,
              "model_id": "61e66da444bb4476b0a27bb3bbf0f939"
            }
          },
          "metadata": {}
        },
        {
          "output_type": "display_data",
          "data": {
            "text/plain": [
              "Downloading (…)okenizer_config.json:   0%|          | 0.00/560 [00:00<?, ?B/s]"
            ],
            "application/vnd.jupyter.widget-view+json": {
              "version_major": 2,
              "version_minor": 0,
              "model_id": "06fcb2862a7043cdab98e2f36fc05fe4"
            }
          },
          "metadata": {}
        },
        {
          "output_type": "display_data",
          "data": {
            "text/plain": [
              "Downloading (…)lve/main/config.json:   0%|          | 0.00/1.01k [00:00<?, ?B/s]"
            ],
            "application/vnd.jupyter.widget-view+json": {
              "version_major": 2,
              "version_minor": 0,
              "model_id": "3fb5def8241342f687327cde5c446c99"
            }
          },
          "metadata": {}
        },
        {
          "output_type": "stream",
          "name": "stderr",
          "text": [
            "Special tokens have been added in the vocabulary, make sure the associated word embeddings are fine-tuned or trained.\n"
          ]
        },
        {
          "output_type": "display_data",
          "data": {
            "text/plain": [
              "Downloading model.safetensors:   0%|          | 0.00/526M [00:00<?, ?B/s]"
            ],
            "application/vnd.jupyter.widget-view+json": {
              "version_major": 2,
              "version_minor": 0,
              "model_id": "941603872c7b4bd585bff5f50b5ea9ac"
            }
          },
          "metadata": {}
        },
        {
          "output_type": "execute_result",
          "data": {
            "text/plain": [
              "Embedding(50259, 768)"
            ]
          },
          "metadata": {},
          "execution_count": 10
        }
      ],
      "source": [
        "# Set the random seed to a fixed value to get reproducible results\n",
        "torch.manual_seed(42)\n",
        "\n",
        "# Download the pre-trained GPT-Neo model's tokenizer\n",
        "# Add the custom tokens denoting the beginning and the end\n",
        "# of the sequence and a special token for padding\n",
        "tokenizer = GPT2Tokenizer.from_pretrained(\"EleutherAI/gpt-neo-125M\",\n",
        "                            bos_token='<|startoftext|>',\n",
        "                            eos_token='<|endoftext|>',\n",
        "                            pad_token='<|pad|>')\n",
        "\n",
        "# Download the pre-trained GPT-Neo model and transfer it to the GPU\n",
        "model = GPTNeoForCausalLM.from_pretrained(\"EleutherAI/gpt-neo-125M\").cuda()\n",
        "\n",
        "# Resize the token embeddings because we've just added 3 new tokens\n",
        "model.resize_token_embeddings(len(tokenizer))"
      ]
    },
    {
      "cell_type": "markdown",
      "metadata": {
        "id": "mnaVbPqAl6pJ"
      },
      "source": [
        "## Train/Test Split data"
      ]
    },
    {
      "cell_type": "code",
      "execution_count": null,
      "metadata": {
        "id": "azAXcv50l9_S",
        "colab": {
          "base_uri": "https://localhost:8080/"
        },
        "outputId": "d15726ba-533e-424b-9100-6ee311a65534"
      },
      "outputs": [
        {
          "output_type": "execute_result",
          "data": {
            "text/plain": [
              "119"
            ]
          },
          "metadata": {},
          "execution_count": 11
        }
      ],
      "source": [
        "max_length = max([len(tokenizer.encode(paragraph)) for paragraph in datas])\n",
        "\n",
        "# Load dataset\n",
        "dataset = DrSeussDataset(paragraphs, tokenizer, max_length)\n",
        "\n",
        "# Split data into train/val\n",
        "train_size = int(0.9 * len(dataset))\n",
        "\n",
        "train_data, val_data = random_split(dataset, [train_size, len(dataset) - train_size])\n",
        "\n",
        "max_length"
      ]
    },
    {
      "cell_type": "code",
      "execution_count": null,
      "metadata": {
        "id": "JMKRswOTof4K",
        "colab": {
          "base_uri": "https://localhost:8080/"
        },
        "outputId": "7827ce83-795c-4ce4-aa8c-4a2b83e4819e"
      },
      "outputs": [
        {
          "output_type": "execute_result",
          "data": {
            "text/plain": [
              "['<|startoftext|> Gooey goo for chewy chewing!\\nThats what that Goo Goose is doing.\\nDo you choose to chew goo too sir?\\nIf sir you sir choose to chew sir\\nwith the Goo Goose chew sir.\\nDo sir.\\nMr. Fox sir\\nI wont do it.\\n<|endoftext|> <|pad|> <|pad|> <|pad|> <|pad|> <|pad|> <|pad|> <|pad|> <|pad|> <|pad|> <|pad|> <|pad|> <|pad|> <|pad|> <|pad|> <|pad|> <|pad|> <|pad|> <|pad|> <|pad|> <|pad|> <|pad|> <|pad|> <|pad|> <|pad|> <|pad|> <|pad|> <|pad|> <|pad|> <|pad|> <|pad|> <|pad|> <|pad|> <|pad|> <|pad|> <|pad|> <|pad|> <|pad|> <|pad|> <|pad|> <|pad|> <|pad|> <|pad|> <|pad|> <|pad|> <|pad|> <|pad|> <|pad|> <|pad|> <|pad|> <|pad|> <|pad|> <|pad|> <|pad|>',\n",
              " '\"\"\"\"\"\"\"\"\"\"\"\"\"\"\"\"\"\"\"\"\"\"\"\"\"\"\"\"\"\"\"\"\"\"\"\"\"\"\"\"\"\"\"\"\"\"\"\"\"\"\"\"\"\"\"\"\"\"\"\"\"\"\"\"\"\"!!!!!!!!!!!!!!!!!!!!!!!!!!!!!!!!!!!!!!!!!!!!!!!!!!!!!']"
            ]
          },
          "metadata": {},
          "execution_count": 12
        }
      ],
      "source": [
        "tokenizer.batch_decode(val_data[0])"
      ]
    },
    {
      "cell_type": "markdown",
      "metadata": {
        "id": "tZ_TRgtAmcN1"
      },
      "source": [
        "## Train Model"
      ]
    },
    {
      "cell_type": "code",
      "execution_count": null,
      "metadata": {
        "id": "W9eluje2md8e"
      },
      "outputs": [],
      "source": [
        "# # Here I will pass the output directory where\n",
        "# # the model predictions and checkpoints will be stored,\n",
        "# # batch sizes for the training and validation steps,\n",
        "# # and warmup_steps to gradually increase the learning rate\n",
        "# learning_rates = [5e-5, 3e-5, 1e-5]\n",
        "\n",
        "# for learning_rate in learning_rates:\n",
        "\n",
        "#     training_args = TrainingArguments(output_dir=f'./results_{learning_rate}',\n",
        "#                                       num_train_epochs=5,\n",
        "#                                       logging_steps=1000,\n",
        "#                                       save_steps=1000,\n",
        "#                                       evaluation_strategy='steps',\n",
        "#                                       eval_steps=1000,\n",
        "#                                       per_device_train_batch_size=2,\n",
        "#                                       per_device_eval_batch_size=2,\n",
        "#                                       warmup_steps=100,\n",
        "#                                       learning_rate=learning_rate,\n",
        "#                                       weight_decay=0.01,\n",
        "#                                       logging_dir=f'./logs_{learning_rate}')\n",
        "\n",
        "#     trainer = Trainer(model=model, args=training_args,\n",
        "#                       train_dataset=train_data,\n",
        "#                       eval_dataset=val_data,\n",
        "#                       # This custom collate function is necessary\n",
        "#                       # to built batches of data\n",
        "#                       data_collator=lambda data: {'input_ids': torch.stack([f[0] for f in data]),\n",
        "#                   'attention_mask': torch.stack([f[1] for f in data]),\n",
        "#                   'labels': torch.stack([f[0] for f in data])})\n",
        "\n",
        "#     # Start training process!\n",
        "#     print(f\"Training result for learning rate: {learning_rate}\")\n",
        "#     trainer.train()\n",
        "#     print(\"\\n\\n\")"
      ]
    },
    {
      "cell_type": "markdown",
      "metadata": {
        "id": "vAbDm1Osohai"
      },
      "source": [
        "BAsed on the results above, it looks like model trained with learning rate = 5e-5 is more promising than others."
      ]
    },
    {
      "cell_type": "code",
      "execution_count": null,
      "metadata": {
        "id": "Ym8Ni5ilou6L",
        "colab": {
          "base_uri": "https://localhost:8080/",
          "height": 165
        },
        "outputId": "bd4c1eab-b1d3-434e-9449-3fc9c0c80c52"
      },
      "outputs": [
        {
          "output_type": "stream",
          "name": "stderr",
          "text": [
            "/usr/local/lib/python3.10/dist-packages/transformers/optimization.py:411: FutureWarning: This implementation of AdamW is deprecated and will be removed in a future version. Use the PyTorch implementation torch.optim.AdamW instead, or set `no_deprecation_warning=True` to disable this warning\n",
            "  warnings.warn(\n"
          ]
        },
        {
          "output_type": "display_data",
          "data": {
            "text/plain": [
              "<IPython.core.display.HTML object>"
            ],
            "text/html": [
              "\n",
              "    <div>\n",
              "      \n",
              "      <progress value='250' max='250' style='width:300px; height:20px; vertical-align: middle;'></progress>\n",
              "      [250/250 00:27, Epoch 5/5]\n",
              "    </div>\n",
              "    <table border=\"1\" class=\"dataframe\">\n",
              "  <thead>\n",
              " <tr style=\"text-align: left;\">\n",
              "      <th>Step</th>\n",
              "      <th>Training Loss</th>\n",
              "      <th>Validation Loss</th>\n",
              "    </tr>\n",
              "  </thead>\n",
              "  <tbody>\n",
              "  </tbody>\n",
              "</table><p>"
            ]
          },
          "metadata": {}
        },
        {
          "output_type": "execute_result",
          "data": {
            "text/plain": [
              "TrainOutput(global_step=250, training_loss=1.7092474365234376, metrics={'train_runtime': 29.7971, 'train_samples_per_second': 16.612, 'train_steps_per_second': 8.39, 'total_flos': 30051570447360.0, 'train_loss': 1.7092474365234376, 'epoch': 5.0})"
            ]
          },
          "metadata": {},
          "execution_count": 14
        }
      ],
      "source": [
        "training_args = TrainingArguments(output_dir=f'./results',\n",
        "                                      num_train_epochs=5,\n",
        "                                      logging_steps=1000,\n",
        "                                      save_steps=5000,\n",
        "                                      evaluation_strategy='steps',\n",
        "                                      eval_steps=1000,\n",
        "                                      per_device_train_batch_size=2,\n",
        "                                      per_device_eval_batch_size=2,\n",
        "                                      warmup_steps=100,\n",
        "                                      learning_rate=5e-5,\n",
        "                                      weight_decay=0.01,\n",
        "                                      logging_dir=f'./logs')\n",
        "\n",
        "trainer = Trainer(model=model, args=training_args,\n",
        "                  train_dataset=train_data,\n",
        "                  eval_dataset=val_data,\n",
        "                  # This custom collate function is necessary\n",
        "                  # to built batches of data\n",
        "                  data_collator=lambda data: {'input_ids': torch.stack([f[0] for f in data]),\n",
        "              'attention_mask': torch.stack([f[1] for f in data]),\n",
        "              'labels': torch.stack([f[0] for f in data])})\n",
        "\n",
        "# Start training process!\n",
        "trainer.train()\n"
      ]
    },
    {
      "cell_type": "code",
      "execution_count": null,
      "metadata": {
        "id": "t9emExFBzf8n"
      },
      "outputs": [],
      "source": [
        "# Save model in the specified file path\n",
        "trainer.save_model(\"drive/MyDrive/AICamp/nlp/models/TestingParameters\")"
      ]
    },
    {
      "cell_type": "code",
      "execution_count": null,
      "metadata": {
        "id": "vsyAFv1az_sq",
        "colab": {
          "base_uri": "https://localhost:8080/"
        },
        "outputId": "4b5ca99f-7a41-45f0-92d5-5f9d5dfaeb36"
      },
      "outputs": [
        {
          "output_type": "execute_result",
          "data": {
            "text/plain": [
              "('drive/MyDrive/AICamp/nlp/models/TestingParameters/tokenizer_config.json',\n",
              " 'drive/MyDrive/AICamp/nlp/models/TestingParameters/special_tokens_map.json',\n",
              " 'drive/MyDrive/AICamp/nlp/models/TestingParameters/vocab.json',\n",
              " 'drive/MyDrive/AICamp/nlp/models/TestingParameters/merges.txt',\n",
              " 'drive/MyDrive/AICamp/nlp/models/TestingParameters/added_tokens.json')"
            ]
          },
          "metadata": {},
          "execution_count": 16
        }
      ],
      "source": [
        "tokenizer.save_pretrained(\"drive/MyDrive/AICamp/nlp/models/TestingParameters\")"
      ]
    },
    {
      "cell_type": "markdown",
      "metadata": {
        "id": "1gHIDQpWo_uU"
      },
      "source": [
        "## Checking Model Output"
      ]
    },
    {
      "cell_type": "code",
      "execution_count": null,
      "metadata": {
        "id": "xl9xISOxo-2A",
        "colab": {
          "base_uri": "https://localhost:8080/"
        },
        "outputId": "ab4f94c5-df58-4103-a6ce-99dc813f2fa3"
      },
      "outputs": [
        {
          "output_type": "stream",
          "name": "stderr",
          "text": [
            "The attention mask and the pad token id were not set. As a consequence, you may observe unexpected behavior. Please pass your input's `attention_mask` to obtain reliable results.\n",
            "Setting `pad_token_id` to `eos_token_id`:50256 for open-end generation.\n"
          ]
        },
        {
          "output_type": "stream",
          "name": "stdout",
          "text": [
            "Generated Story:\n",
            "Once upon a time, there was no such thing as a good game.\n",
            "So when the ball came down the chimney with a thunk\n",
            "And the rain was falling in torrents all about\n",
            "Then the fish said to the cat:\n",
            "The cat is not in a box.\n",
            "He is in a box.\n",
            "\n"
          ]
        }
      ],
      "source": [
        "input_text = \"Once upon a time,\"\n",
        "input_ids = tokenizer.encode(input_text, return_tensors=\"pt\")\n",
        "\n",
        "output = model.generate(input_ids.cuda(), do_sample=True, max_length=1000, temperature=0.7, num_return_sequences=1)\n",
        "\n",
        "generated_story = tokenizer.decode(output[0], skip_special_tokens=True)\n",
        "print(\"Generated Story:\")\n",
        "print(generated_story)\n",
        "\n"
      ]
    },
    {
      "cell_type": "code",
      "execution_count": null,
      "metadata": {
        "id": "rSq0sIaT08Eb"
      },
      "outputs": [],
      "source": [
        "# ! transformers-cli env"
      ]
    },
    {
      "cell_type": "markdown",
      "metadata": {
        "id": "DwSbqbWmME5l"
      },
      "source": [
        "## Upload model to huggingface"
      ]
    },
    {
      "cell_type": "code",
      "execution_count": null,
      "metadata": {
        "id": "Nb5NjZnuMIYu",
        "colab": {
          "base_uri": "https://localhost:8080/",
          "height": 303,
          "referenced_widgets": [
            "1208653a648e4cdf8aaa9947afe4dc80",
            "f6672e2e012f4645839922a018f8d12f",
            "7eba93bbcb194f85bf3ca91aa15d294f",
            "c74038e4830245959984629724f30a27",
            "a94ad20c9835453384b8692154e1bfae",
            "a121355a71224bb8b69bd19f5e45e0d6",
            "d852e1b57f144a00b7c79158017de401",
            "604b94b238f644e6bf6155aa4032bcb6",
            "bea8e60c867f49808ecf202f51d6d7f2",
            "b4b18495cf9a4b4091563b03e36a85eb",
            "e0c10006be3b4efbbae1a15257d69f35",
            "f9940062a063448685fec76ca70ebcbc",
            "4ebd75e30b9346faadb9d4218212d679",
            "0ebb9ff1031447ae902c463c440f4544",
            "6e55e7c60ef846f18bb3224024db9314",
            "155d991e9ea8491d9027d52e588e0701",
            "f2593294635442658d7af5cd8a2f91ee"
          ]
        },
        "outputId": "19b1b57c-c7e2-4857-ba3b-76fa7ce2dff8"
      },
      "outputs": [
        {
          "output_type": "display_data",
          "data": {
            "text/plain": [
              "VBox(children=(HTML(value='<center> <img\\nsrc=https://huggingface.co/front/assets/huggingface_logo-noborder.sv…"
            ],
            "application/vnd.jupyter.widget-view+json": {
              "version_major": 2,
              "version_minor": 0,
              "model_id": "1208653a648e4cdf8aaa9947afe4dc80"
            }
          },
          "metadata": {}
        }
      ],
      "source": [
        "from huggingface_hub import notebook_login\n",
        "\n",
        "notebook_login()"
      ]
    },
    {
      "cell_type": "code",
      "execution_count": null,
      "metadata": {
        "id": "pzOXqg0LpbaI"
      },
      "outputs": [],
      "source": [
        "from huggingface_hub import HfApi\n",
        "\n",
        "api = HfApi()"
      ]
    },
    {
      "cell_type": "code",
      "execution_count": null,
      "metadata": {
        "id": "FTajb3uFpeuC",
        "colab": {
          "base_uri": "https://localhost:8080/",
          "height": 346
        },
        "outputId": "927aac41-a5c7-44c5-a1c8-1b025d8d0efe"
      },
      "outputs": [
        {
          "output_type": "error",
          "ename": "ValueError",
          "evalue": "ignored",
          "traceback": [
            "\u001b[0;31m---------------------------------------------------------------------------\u001b[0m",
            "\u001b[0;31mValueError\u001b[0m                                Traceback (most recent call last)",
            "\u001b[0;32m<ipython-input-21-f3b9813f0276>\u001b[0m in \u001b[0;36m<cell line: 2>\u001b[0;34m()\u001b[0m\n\u001b[1;32m      1\u001b[0m \u001b[0;31m# Create your repo first to upload the model\u001b[0m\u001b[0;34m\u001b[0m\u001b[0;34m\u001b[0m\u001b[0m\n\u001b[0;32m----> 2\u001b[0;31m \u001b[0mapi\u001b[0m\u001b[0;34m.\u001b[0m\u001b[0mcreate_repo\u001b[0m\u001b[0;34m(\u001b[0m\u001b[0mrepo_id\u001b[0m\u001b[0;34m=\u001b[0m\u001b[0;34m\"gpt2-dr-seuss-generators\"\u001b[0m\u001b[0;34m)\u001b[0m\u001b[0;34m\u001b[0m\u001b[0;34m\u001b[0m\u001b[0m\n\u001b[0m",
            "\u001b[0;32m/usr/local/lib/python3.10/dist-packages/huggingface_hub/utils/_validators.py\u001b[0m in \u001b[0;36m_inner_fn\u001b[0;34m(*args, **kwargs)\u001b[0m\n\u001b[1;32m    116\u001b[0m             \u001b[0mkwargs\u001b[0m \u001b[0;34m=\u001b[0m \u001b[0msmoothly_deprecate_use_auth_token\u001b[0m\u001b[0;34m(\u001b[0m\u001b[0mfn_name\u001b[0m\u001b[0;34m=\u001b[0m\u001b[0mfn\u001b[0m\u001b[0;34m.\u001b[0m\u001b[0m__name__\u001b[0m\u001b[0;34m,\u001b[0m \u001b[0mhas_token\u001b[0m\u001b[0;34m=\u001b[0m\u001b[0mhas_token\u001b[0m\u001b[0;34m,\u001b[0m \u001b[0mkwargs\u001b[0m\u001b[0;34m=\u001b[0m\u001b[0mkwargs\u001b[0m\u001b[0;34m)\u001b[0m\u001b[0;34m\u001b[0m\u001b[0;34m\u001b[0m\u001b[0m\n\u001b[1;32m    117\u001b[0m \u001b[0;34m\u001b[0m\u001b[0m\n\u001b[0;32m--> 118\u001b[0;31m         \u001b[0;32mreturn\u001b[0m \u001b[0mfn\u001b[0m\u001b[0;34m(\u001b[0m\u001b[0;34m*\u001b[0m\u001b[0margs\u001b[0m\u001b[0;34m,\u001b[0m \u001b[0;34m**\u001b[0m\u001b[0mkwargs\u001b[0m\u001b[0;34m)\u001b[0m\u001b[0;34m\u001b[0m\u001b[0;34m\u001b[0m\u001b[0m\n\u001b[0m\u001b[1;32m    119\u001b[0m \u001b[0;34m\u001b[0m\u001b[0m\n\u001b[1;32m    120\u001b[0m     \u001b[0;32mreturn\u001b[0m \u001b[0m_inner_fn\u001b[0m  \u001b[0;31m# type: ignore\u001b[0m\u001b[0;34m\u001b[0m\u001b[0;34m\u001b[0m\u001b[0m\n",
            "\u001b[0;32m/usr/local/lib/python3.10/dist-packages/huggingface_hub/hf_api.py\u001b[0m in \u001b[0;36mcreate_repo\u001b[0;34m(self, repo_id, token, private, repo_type, exist_ok, space_sdk, space_hardware)\u001b[0m\n\u001b[1;32m   2302\u001b[0m             \u001b[0;31m# See https://github.com/huggingface/huggingface_hub/pull/733/files#r820604472\u001b[0m\u001b[0;34m\u001b[0m\u001b[0;34m\u001b[0m\u001b[0m\n\u001b[1;32m   2303\u001b[0m             \u001b[0mjson\u001b[0m\u001b[0;34m[\u001b[0m\u001b[0;34m\"lfsmultipartthresh\"\u001b[0m\u001b[0;34m]\u001b[0m \u001b[0;34m=\u001b[0m \u001b[0mself\u001b[0m\u001b[0;34m.\u001b[0m\u001b[0m_lfsmultipartthresh\u001b[0m  \u001b[0;31m# type: ignore\u001b[0m\u001b[0;34m\u001b[0m\u001b[0;34m\u001b[0m\u001b[0m\n\u001b[0;32m-> 2304\u001b[0;31m         \u001b[0mheaders\u001b[0m \u001b[0;34m=\u001b[0m \u001b[0mself\u001b[0m\u001b[0;34m.\u001b[0m\u001b[0m_build_hf_headers\u001b[0m\u001b[0;34m(\u001b[0m\u001b[0mtoken\u001b[0m\u001b[0;34m=\u001b[0m\u001b[0mtoken\u001b[0m\u001b[0;34m,\u001b[0m \u001b[0mis_write_action\u001b[0m\u001b[0;34m=\u001b[0m\u001b[0;32mTrue\u001b[0m\u001b[0;34m)\u001b[0m\u001b[0;34m\u001b[0m\u001b[0;34m\u001b[0m\u001b[0m\n\u001b[0m\u001b[1;32m   2305\u001b[0m         \u001b[0mr\u001b[0m \u001b[0;34m=\u001b[0m \u001b[0mget_session\u001b[0m\u001b[0;34m(\u001b[0m\u001b[0;34m)\u001b[0m\u001b[0;34m.\u001b[0m\u001b[0mpost\u001b[0m\u001b[0;34m(\u001b[0m\u001b[0mpath\u001b[0m\u001b[0;34m,\u001b[0m \u001b[0mheaders\u001b[0m\u001b[0;34m=\u001b[0m\u001b[0mheaders\u001b[0m\u001b[0;34m,\u001b[0m \u001b[0mjson\u001b[0m\u001b[0;34m=\u001b[0m\u001b[0mjson\u001b[0m\u001b[0;34m)\u001b[0m\u001b[0;34m\u001b[0m\u001b[0;34m\u001b[0m\u001b[0m\n\u001b[1;32m   2306\u001b[0m \u001b[0;34m\u001b[0m\u001b[0m\n",
            "\u001b[0;32m/usr/local/lib/python3.10/dist-packages/huggingface_hub/hf_api.py\u001b[0m in \u001b[0;36m_build_hf_headers\u001b[0;34m(self, token, is_write_action, library_name, library_version, user_agent)\u001b[0m\n\u001b[1;32m   5006\u001b[0m             \u001b[0;31m# Cannot do `token = token or self.token` as token can be `False`.\u001b[0m\u001b[0;34m\u001b[0m\u001b[0;34m\u001b[0m\u001b[0m\n\u001b[1;32m   5007\u001b[0m             \u001b[0mtoken\u001b[0m \u001b[0;34m=\u001b[0m \u001b[0mself\u001b[0m\u001b[0;34m.\u001b[0m\u001b[0mtoken\u001b[0m\u001b[0;34m\u001b[0m\u001b[0;34m\u001b[0m\u001b[0m\n\u001b[0;32m-> 5008\u001b[0;31m         return build_hf_headers(\n\u001b[0m\u001b[1;32m   5009\u001b[0m             \u001b[0mtoken\u001b[0m\u001b[0;34m=\u001b[0m\u001b[0mtoken\u001b[0m\u001b[0;34m,\u001b[0m\u001b[0;34m\u001b[0m\u001b[0;34m\u001b[0m\u001b[0m\n\u001b[1;32m   5010\u001b[0m             \u001b[0mis_write_action\u001b[0m\u001b[0;34m=\u001b[0m\u001b[0mis_write_action\u001b[0m\u001b[0;34m,\u001b[0m\u001b[0;34m\u001b[0m\u001b[0;34m\u001b[0m\u001b[0m\n",
            "\u001b[0;32m/usr/local/lib/python3.10/dist-packages/huggingface_hub/utils/_validators.py\u001b[0m in \u001b[0;36m_inner_fn\u001b[0;34m(*args, **kwargs)\u001b[0m\n\u001b[1;32m    116\u001b[0m             \u001b[0mkwargs\u001b[0m \u001b[0;34m=\u001b[0m \u001b[0msmoothly_deprecate_use_auth_token\u001b[0m\u001b[0;34m(\u001b[0m\u001b[0mfn_name\u001b[0m\u001b[0;34m=\u001b[0m\u001b[0mfn\u001b[0m\u001b[0;34m.\u001b[0m\u001b[0m__name__\u001b[0m\u001b[0;34m,\u001b[0m \u001b[0mhas_token\u001b[0m\u001b[0;34m=\u001b[0m\u001b[0mhas_token\u001b[0m\u001b[0;34m,\u001b[0m \u001b[0mkwargs\u001b[0m\u001b[0;34m=\u001b[0m\u001b[0mkwargs\u001b[0m\u001b[0;34m)\u001b[0m\u001b[0;34m\u001b[0m\u001b[0;34m\u001b[0m\u001b[0m\n\u001b[1;32m    117\u001b[0m \u001b[0;34m\u001b[0m\u001b[0m\n\u001b[0;32m--> 118\u001b[0;31m         \u001b[0;32mreturn\u001b[0m \u001b[0mfn\u001b[0m\u001b[0;34m(\u001b[0m\u001b[0;34m*\u001b[0m\u001b[0margs\u001b[0m\u001b[0;34m,\u001b[0m \u001b[0;34m**\u001b[0m\u001b[0mkwargs\u001b[0m\u001b[0;34m)\u001b[0m\u001b[0;34m\u001b[0m\u001b[0;34m\u001b[0m\u001b[0m\n\u001b[0m\u001b[1;32m    119\u001b[0m \u001b[0;34m\u001b[0m\u001b[0m\n\u001b[1;32m    120\u001b[0m     \u001b[0;32mreturn\u001b[0m \u001b[0m_inner_fn\u001b[0m  \u001b[0;31m# type: ignore\u001b[0m\u001b[0;34m\u001b[0m\u001b[0;34m\u001b[0m\u001b[0m\n",
            "\u001b[0;32m/usr/local/lib/python3.10/dist-packages/huggingface_hub/utils/_headers.py\u001b[0m in \u001b[0;36mbuild_hf_headers\u001b[0;34m(token, is_write_action, library_name, library_version, user_agent)\u001b[0m\n\u001b[1;32m    120\u001b[0m     \u001b[0;31m# Get auth token to send\u001b[0m\u001b[0;34m\u001b[0m\u001b[0;34m\u001b[0m\u001b[0m\n\u001b[1;32m    121\u001b[0m     \u001b[0mtoken_to_send\u001b[0m \u001b[0;34m=\u001b[0m \u001b[0mget_token_to_send\u001b[0m\u001b[0;34m(\u001b[0m\u001b[0mtoken\u001b[0m\u001b[0;34m)\u001b[0m\u001b[0;34m\u001b[0m\u001b[0;34m\u001b[0m\u001b[0m\n\u001b[0;32m--> 122\u001b[0;31m     \u001b[0m_validate_token_to_send\u001b[0m\u001b[0;34m(\u001b[0m\u001b[0mtoken_to_send\u001b[0m\u001b[0;34m,\u001b[0m \u001b[0mis_write_action\u001b[0m\u001b[0;34m=\u001b[0m\u001b[0mis_write_action\u001b[0m\u001b[0;34m)\u001b[0m\u001b[0;34m\u001b[0m\u001b[0;34m\u001b[0m\u001b[0m\n\u001b[0m\u001b[1;32m    123\u001b[0m \u001b[0;34m\u001b[0m\u001b[0m\n\u001b[1;32m    124\u001b[0m     \u001b[0;31m# Combine headers\u001b[0m\u001b[0;34m\u001b[0m\u001b[0;34m\u001b[0m\u001b[0m\n",
            "\u001b[0;32m/usr/local/lib/python3.10/dist-packages/huggingface_hub/utils/_headers.py\u001b[0m in \u001b[0;36m_validate_token_to_send\u001b[0;34m(token, is_write_action)\u001b[0m\n\u001b[1;32m    170\u001b[0m     \u001b[0;32mif\u001b[0m \u001b[0mis_write_action\u001b[0m\u001b[0;34m:\u001b[0m\u001b[0;34m\u001b[0m\u001b[0;34m\u001b[0m\u001b[0m\n\u001b[1;32m    171\u001b[0m         \u001b[0;32mif\u001b[0m \u001b[0mtoken\u001b[0m \u001b[0;32mis\u001b[0m \u001b[0;32mNone\u001b[0m\u001b[0;34m:\u001b[0m\u001b[0;34m\u001b[0m\u001b[0;34m\u001b[0m\u001b[0m\n\u001b[0;32m--> 172\u001b[0;31m             raise ValueError(\n\u001b[0m\u001b[1;32m    173\u001b[0m                 \u001b[0;34m\"Token is required (write-access action) but no token found. You need\"\u001b[0m\u001b[0;34m\u001b[0m\u001b[0;34m\u001b[0m\u001b[0m\n\u001b[1;32m    174\u001b[0m                 \u001b[0;34m\" to provide a token or be logged in to Hugging Face with\"\u001b[0m\u001b[0;34m\u001b[0m\u001b[0;34m\u001b[0m\u001b[0m\n",
            "\u001b[0;31mValueError\u001b[0m: Token is required (write-access action) but no token found. You need to provide a token or be logged in to Hugging Face with `huggingface-cli login` or `huggingface_hub.login`. See https://huggingface.co/settings/tokens."
          ]
        }
      ],
      "source": [
        "# Create your repo first to upload the model\n",
        "api.create_repo(repo_id=\"gpt2-dr-seuss-generators\")"
      ]
    },
    {
      "cell_type": "code",
      "execution_count": null,
      "metadata": {
        "id": "Bk0RPeLMphCy"
      },
      "outputs": [],
      "source": [
        "# Upload your model to huggingface. You can clone the repo anytime to use the model.\n",
        "import os\n",
        "\n",
        "model_pth = \"drive/MyDrive/AICamp/nlp/models/Dr Seuss\"\n",
        "\n",
        "files = os.listdir(model_pth)\n",
        "for fi in files:\n",
        "    print(os.path.join(model_pth, fi))\n",
        "\n",
        "    api.upload_file(\n",
        "        path_or_fileobj=os.path.join(model_pth, fi),\n",
        "        path_in_repo=fi,\n",
        "        repo_id=\"dpseigel/gpt2-dr-seuss-generators\",\n",
        "        repo_type=\"model\",\n",
        "    )"
      ]
    }
  ],
  "metadata": {
    "accelerator": "GPU",
    "colab": {
      "provenance": [],
      "include_colab_link": true
    },
    "kernelspec": {
      "display_name": "Python 3",
      "name": "python3"
    },
    "language_info": {
      "name": "python"
    },
    "widgets": {
      "application/vnd.jupyter.widget-state+json": {
        "9d04491d75ee4787a09ef49dd934d09a": {
          "model_module": "@jupyter-widgets/controls",
          "model_name": "HBoxModel",
          "model_module_version": "1.5.0",
          "state": {
            "_dom_classes": [],
            "_model_module": "@jupyter-widgets/controls",
            "_model_module_version": "1.5.0",
            "_model_name": "HBoxModel",
            "_view_count": null,
            "_view_module": "@jupyter-widgets/controls",
            "_view_module_version": "1.5.0",
            "_view_name": "HBoxView",
            "box_style": "",
            "children": [
              "IPY_MODEL_cf3a479514ff47dd908e0d7f65278f63",
              "IPY_MODEL_4e8fb8b7c1364488b31a553a8c4d613b",
              "IPY_MODEL_f0241732f7d54e7298a2e747117a280f"
            ],
            "layout": "IPY_MODEL_94300b04d0ec4dcdb93e04cd2ff1cc12"
          }
        },
        "cf3a479514ff47dd908e0d7f65278f63": {
          "model_module": "@jupyter-widgets/controls",
          "model_name": "HTMLModel",
          "model_module_version": "1.5.0",
          "state": {
            "_dom_classes": [],
            "_model_module": "@jupyter-widgets/controls",
            "_model_module_version": "1.5.0",
            "_model_name": "HTMLModel",
            "_view_count": null,
            "_view_module": "@jupyter-widgets/controls",
            "_view_module_version": "1.5.0",
            "_view_name": "HTMLView",
            "description": "",
            "description_tooltip": null,
            "layout": "IPY_MODEL_194bf0471824423e90ef185ef18251b9",
            "placeholder": "​",
            "style": "IPY_MODEL_e23b2acf8c644927b8914867860949d9",
            "value": "Downloading (…)olve/main/vocab.json: 100%"
          }
        },
        "4e8fb8b7c1364488b31a553a8c4d613b": {
          "model_module": "@jupyter-widgets/controls",
          "model_name": "FloatProgressModel",
          "model_module_version": "1.5.0",
          "state": {
            "_dom_classes": [],
            "_model_module": "@jupyter-widgets/controls",
            "_model_module_version": "1.5.0",
            "_model_name": "FloatProgressModel",
            "_view_count": null,
            "_view_module": "@jupyter-widgets/controls",
            "_view_module_version": "1.5.0",
            "_view_name": "ProgressView",
            "bar_style": "success",
            "description": "",
            "description_tooltip": null,
            "layout": "IPY_MODEL_01aba2a9fd8747d896d7d51006abbf94",
            "max": 898669,
            "min": 0,
            "orientation": "horizontal",
            "style": "IPY_MODEL_b43e77ea034a44be932c382a08e963b8",
            "value": 898669
          }
        },
        "f0241732f7d54e7298a2e747117a280f": {
          "model_module": "@jupyter-widgets/controls",
          "model_name": "HTMLModel",
          "model_module_version": "1.5.0",
          "state": {
            "_dom_classes": [],
            "_model_module": "@jupyter-widgets/controls",
            "_model_module_version": "1.5.0",
            "_model_name": "HTMLModel",
            "_view_count": null,
            "_view_module": "@jupyter-widgets/controls",
            "_view_module_version": "1.5.0",
            "_view_name": "HTMLView",
            "description": "",
            "description_tooltip": null,
            "layout": "IPY_MODEL_e494dc219b564a63b1075e5ef7a2b35b",
            "placeholder": "​",
            "style": "IPY_MODEL_41e96f1e9ef34dae9a5723b8538df7d2",
            "value": " 899k/899k [00:00&lt;00:00, 11.5MB/s]"
          }
        },
        "94300b04d0ec4dcdb93e04cd2ff1cc12": {
          "model_module": "@jupyter-widgets/base",
          "model_name": "LayoutModel",
          "model_module_version": "1.2.0",
          "state": {
            "_model_module": "@jupyter-widgets/base",
            "_model_module_version": "1.2.0",
            "_model_name": "LayoutModel",
            "_view_count": null,
            "_view_module": "@jupyter-widgets/base",
            "_view_module_version": "1.2.0",
            "_view_name": "LayoutView",
            "align_content": null,
            "align_items": null,
            "align_self": null,
            "border": null,
            "bottom": null,
            "display": null,
            "flex": null,
            "flex_flow": null,
            "grid_area": null,
            "grid_auto_columns": null,
            "grid_auto_flow": null,
            "grid_auto_rows": null,
            "grid_column": null,
            "grid_gap": null,
            "grid_row": null,
            "grid_template_areas": null,
            "grid_template_columns": null,
            "grid_template_rows": null,
            "height": null,
            "justify_content": null,
            "justify_items": null,
            "left": null,
            "margin": null,
            "max_height": null,
            "max_width": null,
            "min_height": null,
            "min_width": null,
            "object_fit": null,
            "object_position": null,
            "order": null,
            "overflow": null,
            "overflow_x": null,
            "overflow_y": null,
            "padding": null,
            "right": null,
            "top": null,
            "visibility": null,
            "width": null
          }
        },
        "194bf0471824423e90ef185ef18251b9": {
          "model_module": "@jupyter-widgets/base",
          "model_name": "LayoutModel",
          "model_module_version": "1.2.0",
          "state": {
            "_model_module": "@jupyter-widgets/base",
            "_model_module_version": "1.2.0",
            "_model_name": "LayoutModel",
            "_view_count": null,
            "_view_module": "@jupyter-widgets/base",
            "_view_module_version": "1.2.0",
            "_view_name": "LayoutView",
            "align_content": null,
            "align_items": null,
            "align_self": null,
            "border": null,
            "bottom": null,
            "display": null,
            "flex": null,
            "flex_flow": null,
            "grid_area": null,
            "grid_auto_columns": null,
            "grid_auto_flow": null,
            "grid_auto_rows": null,
            "grid_column": null,
            "grid_gap": null,
            "grid_row": null,
            "grid_template_areas": null,
            "grid_template_columns": null,
            "grid_template_rows": null,
            "height": null,
            "justify_content": null,
            "justify_items": null,
            "left": null,
            "margin": null,
            "max_height": null,
            "max_width": null,
            "min_height": null,
            "min_width": null,
            "object_fit": null,
            "object_position": null,
            "order": null,
            "overflow": null,
            "overflow_x": null,
            "overflow_y": null,
            "padding": null,
            "right": null,
            "top": null,
            "visibility": null,
            "width": null
          }
        },
        "e23b2acf8c644927b8914867860949d9": {
          "model_module": "@jupyter-widgets/controls",
          "model_name": "DescriptionStyleModel",
          "model_module_version": "1.5.0",
          "state": {
            "_model_module": "@jupyter-widgets/controls",
            "_model_module_version": "1.5.0",
            "_model_name": "DescriptionStyleModel",
            "_view_count": null,
            "_view_module": "@jupyter-widgets/base",
            "_view_module_version": "1.2.0",
            "_view_name": "StyleView",
            "description_width": ""
          }
        },
        "01aba2a9fd8747d896d7d51006abbf94": {
          "model_module": "@jupyter-widgets/base",
          "model_name": "LayoutModel",
          "model_module_version": "1.2.0",
          "state": {
            "_model_module": "@jupyter-widgets/base",
            "_model_module_version": "1.2.0",
            "_model_name": "LayoutModel",
            "_view_count": null,
            "_view_module": "@jupyter-widgets/base",
            "_view_module_version": "1.2.0",
            "_view_name": "LayoutView",
            "align_content": null,
            "align_items": null,
            "align_self": null,
            "border": null,
            "bottom": null,
            "display": null,
            "flex": null,
            "flex_flow": null,
            "grid_area": null,
            "grid_auto_columns": null,
            "grid_auto_flow": null,
            "grid_auto_rows": null,
            "grid_column": null,
            "grid_gap": null,
            "grid_row": null,
            "grid_template_areas": null,
            "grid_template_columns": null,
            "grid_template_rows": null,
            "height": null,
            "justify_content": null,
            "justify_items": null,
            "left": null,
            "margin": null,
            "max_height": null,
            "max_width": null,
            "min_height": null,
            "min_width": null,
            "object_fit": null,
            "object_position": null,
            "order": null,
            "overflow": null,
            "overflow_x": null,
            "overflow_y": null,
            "padding": null,
            "right": null,
            "top": null,
            "visibility": null,
            "width": null
          }
        },
        "b43e77ea034a44be932c382a08e963b8": {
          "model_module": "@jupyter-widgets/controls",
          "model_name": "ProgressStyleModel",
          "model_module_version": "1.5.0",
          "state": {
            "_model_module": "@jupyter-widgets/controls",
            "_model_module_version": "1.5.0",
            "_model_name": "ProgressStyleModel",
            "_view_count": null,
            "_view_module": "@jupyter-widgets/base",
            "_view_module_version": "1.2.0",
            "_view_name": "StyleView",
            "bar_color": null,
            "description_width": ""
          }
        },
        "e494dc219b564a63b1075e5ef7a2b35b": {
          "model_module": "@jupyter-widgets/base",
          "model_name": "LayoutModel",
          "model_module_version": "1.2.0",
          "state": {
            "_model_module": "@jupyter-widgets/base",
            "_model_module_version": "1.2.0",
            "_model_name": "LayoutModel",
            "_view_count": null,
            "_view_module": "@jupyter-widgets/base",
            "_view_module_version": "1.2.0",
            "_view_name": "LayoutView",
            "align_content": null,
            "align_items": null,
            "align_self": null,
            "border": null,
            "bottom": null,
            "display": null,
            "flex": null,
            "flex_flow": null,
            "grid_area": null,
            "grid_auto_columns": null,
            "grid_auto_flow": null,
            "grid_auto_rows": null,
            "grid_column": null,
            "grid_gap": null,
            "grid_row": null,
            "grid_template_areas": null,
            "grid_template_columns": null,
            "grid_template_rows": null,
            "height": null,
            "justify_content": null,
            "justify_items": null,
            "left": null,
            "margin": null,
            "max_height": null,
            "max_width": null,
            "min_height": null,
            "min_width": null,
            "object_fit": null,
            "object_position": null,
            "order": null,
            "overflow": null,
            "overflow_x": null,
            "overflow_y": null,
            "padding": null,
            "right": null,
            "top": null,
            "visibility": null,
            "width": null
          }
        },
        "41e96f1e9ef34dae9a5723b8538df7d2": {
          "model_module": "@jupyter-widgets/controls",
          "model_name": "DescriptionStyleModel",
          "model_module_version": "1.5.0",
          "state": {
            "_model_module": "@jupyter-widgets/controls",
            "_model_module_version": "1.5.0",
            "_model_name": "DescriptionStyleModel",
            "_view_count": null,
            "_view_module": "@jupyter-widgets/base",
            "_view_module_version": "1.2.0",
            "_view_name": "StyleView",
            "description_width": ""
          }
        },
        "9d1091e4c3f44c0e9b57737c73243e65": {
          "model_module": "@jupyter-widgets/controls",
          "model_name": "HBoxModel",
          "model_module_version": "1.5.0",
          "state": {
            "_dom_classes": [],
            "_model_module": "@jupyter-widgets/controls",
            "_model_module_version": "1.5.0",
            "_model_name": "HBoxModel",
            "_view_count": null,
            "_view_module": "@jupyter-widgets/controls",
            "_view_module_version": "1.5.0",
            "_view_name": "HBoxView",
            "box_style": "",
            "children": [
              "IPY_MODEL_4a640cbea9af4fdc8c290d821523abfe",
              "IPY_MODEL_82c301054ebc48faa18df0b5de20919c",
              "IPY_MODEL_b89da8ee64a94d4d84346d813deb9709"
            ],
            "layout": "IPY_MODEL_e96947a6e82341cbb45a5ab73136d198"
          }
        },
        "4a640cbea9af4fdc8c290d821523abfe": {
          "model_module": "@jupyter-widgets/controls",
          "model_name": "HTMLModel",
          "model_module_version": "1.5.0",
          "state": {
            "_dom_classes": [],
            "_model_module": "@jupyter-widgets/controls",
            "_model_module_version": "1.5.0",
            "_model_name": "HTMLModel",
            "_view_count": null,
            "_view_module": "@jupyter-widgets/controls",
            "_view_module_version": "1.5.0",
            "_view_name": "HTMLView",
            "description": "",
            "description_tooltip": null,
            "layout": "IPY_MODEL_138d937b23664faaa987c51f563cba81",
            "placeholder": "​",
            "style": "IPY_MODEL_e8fcd9472a7246b3920e711a23423030",
            "value": "Downloading (…)olve/main/merges.txt: 100%"
          }
        },
        "82c301054ebc48faa18df0b5de20919c": {
          "model_module": "@jupyter-widgets/controls",
          "model_name": "FloatProgressModel",
          "model_module_version": "1.5.0",
          "state": {
            "_dom_classes": [],
            "_model_module": "@jupyter-widgets/controls",
            "_model_module_version": "1.5.0",
            "_model_name": "FloatProgressModel",
            "_view_count": null,
            "_view_module": "@jupyter-widgets/controls",
            "_view_module_version": "1.5.0",
            "_view_name": "ProgressView",
            "bar_style": "success",
            "description": "",
            "description_tooltip": null,
            "layout": "IPY_MODEL_fca57e3781cd498c86fcffbb731dd166",
            "max": 456318,
            "min": 0,
            "orientation": "horizontal",
            "style": "IPY_MODEL_3a9b9fafe24d4363be43015293aaed76",
            "value": 456318
          }
        },
        "b89da8ee64a94d4d84346d813deb9709": {
          "model_module": "@jupyter-widgets/controls",
          "model_name": "HTMLModel",
          "model_module_version": "1.5.0",
          "state": {
            "_dom_classes": [],
            "_model_module": "@jupyter-widgets/controls",
            "_model_module_version": "1.5.0",
            "_model_name": "HTMLModel",
            "_view_count": null,
            "_view_module": "@jupyter-widgets/controls",
            "_view_module_version": "1.5.0",
            "_view_name": "HTMLView",
            "description": "",
            "description_tooltip": null,
            "layout": "IPY_MODEL_9664846a0f87415d9bd877c33df4745c",
            "placeholder": "​",
            "style": "IPY_MODEL_9ed21d31bc364a8589cf445a9f54bddd",
            "value": " 456k/456k [00:00&lt;00:00, 7.19MB/s]"
          }
        },
        "e96947a6e82341cbb45a5ab73136d198": {
          "model_module": "@jupyter-widgets/base",
          "model_name": "LayoutModel",
          "model_module_version": "1.2.0",
          "state": {
            "_model_module": "@jupyter-widgets/base",
            "_model_module_version": "1.2.0",
            "_model_name": "LayoutModel",
            "_view_count": null,
            "_view_module": "@jupyter-widgets/base",
            "_view_module_version": "1.2.0",
            "_view_name": "LayoutView",
            "align_content": null,
            "align_items": null,
            "align_self": null,
            "border": null,
            "bottom": null,
            "display": null,
            "flex": null,
            "flex_flow": null,
            "grid_area": null,
            "grid_auto_columns": null,
            "grid_auto_flow": null,
            "grid_auto_rows": null,
            "grid_column": null,
            "grid_gap": null,
            "grid_row": null,
            "grid_template_areas": null,
            "grid_template_columns": null,
            "grid_template_rows": null,
            "height": null,
            "justify_content": null,
            "justify_items": null,
            "left": null,
            "margin": null,
            "max_height": null,
            "max_width": null,
            "min_height": null,
            "min_width": null,
            "object_fit": null,
            "object_position": null,
            "order": null,
            "overflow": null,
            "overflow_x": null,
            "overflow_y": null,
            "padding": null,
            "right": null,
            "top": null,
            "visibility": null,
            "width": null
          }
        },
        "138d937b23664faaa987c51f563cba81": {
          "model_module": "@jupyter-widgets/base",
          "model_name": "LayoutModel",
          "model_module_version": "1.2.0",
          "state": {
            "_model_module": "@jupyter-widgets/base",
            "_model_module_version": "1.2.0",
            "_model_name": "LayoutModel",
            "_view_count": null,
            "_view_module": "@jupyter-widgets/base",
            "_view_module_version": "1.2.0",
            "_view_name": "LayoutView",
            "align_content": null,
            "align_items": null,
            "align_self": null,
            "border": null,
            "bottom": null,
            "display": null,
            "flex": null,
            "flex_flow": null,
            "grid_area": null,
            "grid_auto_columns": null,
            "grid_auto_flow": null,
            "grid_auto_rows": null,
            "grid_column": null,
            "grid_gap": null,
            "grid_row": null,
            "grid_template_areas": null,
            "grid_template_columns": null,
            "grid_template_rows": null,
            "height": null,
            "justify_content": null,
            "justify_items": null,
            "left": null,
            "margin": null,
            "max_height": null,
            "max_width": null,
            "min_height": null,
            "min_width": null,
            "object_fit": null,
            "object_position": null,
            "order": null,
            "overflow": null,
            "overflow_x": null,
            "overflow_y": null,
            "padding": null,
            "right": null,
            "top": null,
            "visibility": null,
            "width": null
          }
        },
        "e8fcd9472a7246b3920e711a23423030": {
          "model_module": "@jupyter-widgets/controls",
          "model_name": "DescriptionStyleModel",
          "model_module_version": "1.5.0",
          "state": {
            "_model_module": "@jupyter-widgets/controls",
            "_model_module_version": "1.5.0",
            "_model_name": "DescriptionStyleModel",
            "_view_count": null,
            "_view_module": "@jupyter-widgets/base",
            "_view_module_version": "1.2.0",
            "_view_name": "StyleView",
            "description_width": ""
          }
        },
        "fca57e3781cd498c86fcffbb731dd166": {
          "model_module": "@jupyter-widgets/base",
          "model_name": "LayoutModel",
          "model_module_version": "1.2.0",
          "state": {
            "_model_module": "@jupyter-widgets/base",
            "_model_module_version": "1.2.0",
            "_model_name": "LayoutModel",
            "_view_count": null,
            "_view_module": "@jupyter-widgets/base",
            "_view_module_version": "1.2.0",
            "_view_name": "LayoutView",
            "align_content": null,
            "align_items": null,
            "align_self": null,
            "border": null,
            "bottom": null,
            "display": null,
            "flex": null,
            "flex_flow": null,
            "grid_area": null,
            "grid_auto_columns": null,
            "grid_auto_flow": null,
            "grid_auto_rows": null,
            "grid_column": null,
            "grid_gap": null,
            "grid_row": null,
            "grid_template_areas": null,
            "grid_template_columns": null,
            "grid_template_rows": null,
            "height": null,
            "justify_content": null,
            "justify_items": null,
            "left": null,
            "margin": null,
            "max_height": null,
            "max_width": null,
            "min_height": null,
            "min_width": null,
            "object_fit": null,
            "object_position": null,
            "order": null,
            "overflow": null,
            "overflow_x": null,
            "overflow_y": null,
            "padding": null,
            "right": null,
            "top": null,
            "visibility": null,
            "width": null
          }
        },
        "3a9b9fafe24d4363be43015293aaed76": {
          "model_module": "@jupyter-widgets/controls",
          "model_name": "ProgressStyleModel",
          "model_module_version": "1.5.0",
          "state": {
            "_model_module": "@jupyter-widgets/controls",
            "_model_module_version": "1.5.0",
            "_model_name": "ProgressStyleModel",
            "_view_count": null,
            "_view_module": "@jupyter-widgets/base",
            "_view_module_version": "1.2.0",
            "_view_name": "StyleView",
            "bar_color": null,
            "description_width": ""
          }
        },
        "9664846a0f87415d9bd877c33df4745c": {
          "model_module": "@jupyter-widgets/base",
          "model_name": "LayoutModel",
          "model_module_version": "1.2.0",
          "state": {
            "_model_module": "@jupyter-widgets/base",
            "_model_module_version": "1.2.0",
            "_model_name": "LayoutModel",
            "_view_count": null,
            "_view_module": "@jupyter-widgets/base",
            "_view_module_version": "1.2.0",
            "_view_name": "LayoutView",
            "align_content": null,
            "align_items": null,
            "align_self": null,
            "border": null,
            "bottom": null,
            "display": null,
            "flex": null,
            "flex_flow": null,
            "grid_area": null,
            "grid_auto_columns": null,
            "grid_auto_flow": null,
            "grid_auto_rows": null,
            "grid_column": null,
            "grid_gap": null,
            "grid_row": null,
            "grid_template_areas": null,
            "grid_template_columns": null,
            "grid_template_rows": null,
            "height": null,
            "justify_content": null,
            "justify_items": null,
            "left": null,
            "margin": null,
            "max_height": null,
            "max_width": null,
            "min_height": null,
            "min_width": null,
            "object_fit": null,
            "object_position": null,
            "order": null,
            "overflow": null,
            "overflow_x": null,
            "overflow_y": null,
            "padding": null,
            "right": null,
            "top": null,
            "visibility": null,
            "width": null
          }
        },
        "9ed21d31bc364a8589cf445a9f54bddd": {
          "model_module": "@jupyter-widgets/controls",
          "model_name": "DescriptionStyleModel",
          "model_module_version": "1.5.0",
          "state": {
            "_model_module": "@jupyter-widgets/controls",
            "_model_module_version": "1.5.0",
            "_model_name": "DescriptionStyleModel",
            "_view_count": null,
            "_view_module": "@jupyter-widgets/base",
            "_view_module_version": "1.2.0",
            "_view_name": "StyleView",
            "description_width": ""
          }
        },
        "61e66da444bb4476b0a27bb3bbf0f939": {
          "model_module": "@jupyter-widgets/controls",
          "model_name": "HBoxModel",
          "model_module_version": "1.5.0",
          "state": {
            "_dom_classes": [],
            "_model_module": "@jupyter-widgets/controls",
            "_model_module_version": "1.5.0",
            "_model_name": "HBoxModel",
            "_view_count": null,
            "_view_module": "@jupyter-widgets/controls",
            "_view_module_version": "1.5.0",
            "_view_name": "HBoxView",
            "box_style": "",
            "children": [
              "IPY_MODEL_56cd9ab9ed344563853497938fe72982",
              "IPY_MODEL_e9beaa3727c7459882acb3c5162e9844",
              "IPY_MODEL_90822442ad8f40b98372c07a7f2d8a70"
            ],
            "layout": "IPY_MODEL_4277aa72d17745e08450d3888a20bd98"
          }
        },
        "56cd9ab9ed344563853497938fe72982": {
          "model_module": "@jupyter-widgets/controls",
          "model_name": "HTMLModel",
          "model_module_version": "1.5.0",
          "state": {
            "_dom_classes": [],
            "_model_module": "@jupyter-widgets/controls",
            "_model_module_version": "1.5.0",
            "_model_name": "HTMLModel",
            "_view_count": null,
            "_view_module": "@jupyter-widgets/controls",
            "_view_module_version": "1.5.0",
            "_view_name": "HTMLView",
            "description": "",
            "description_tooltip": null,
            "layout": "IPY_MODEL_69465bfbf0534d848e19e213e306f6c3",
            "placeholder": "​",
            "style": "IPY_MODEL_bce9eae191dd4f6e8c3aaf26173e4dbd",
            "value": "Downloading (…)cial_tokens_map.json: 100%"
          }
        },
        "e9beaa3727c7459882acb3c5162e9844": {
          "model_module": "@jupyter-widgets/controls",
          "model_name": "FloatProgressModel",
          "model_module_version": "1.5.0",
          "state": {
            "_dom_classes": [],
            "_model_module": "@jupyter-widgets/controls",
            "_model_module_version": "1.5.0",
            "_model_name": "FloatProgressModel",
            "_view_count": null,
            "_view_module": "@jupyter-widgets/controls",
            "_view_module_version": "1.5.0",
            "_view_name": "ProgressView",
            "bar_style": "success",
            "description": "",
            "description_tooltip": null,
            "layout": "IPY_MODEL_38abeee0b2ea45bbbd8066a44a7f230e",
            "max": 357,
            "min": 0,
            "orientation": "horizontal",
            "style": "IPY_MODEL_9decf9b4df674ad082e08cb9821e7569",
            "value": 357
          }
        },
        "90822442ad8f40b98372c07a7f2d8a70": {
          "model_module": "@jupyter-widgets/controls",
          "model_name": "HTMLModel",
          "model_module_version": "1.5.0",
          "state": {
            "_dom_classes": [],
            "_model_module": "@jupyter-widgets/controls",
            "_model_module_version": "1.5.0",
            "_model_name": "HTMLModel",
            "_view_count": null,
            "_view_module": "@jupyter-widgets/controls",
            "_view_module_version": "1.5.0",
            "_view_name": "HTMLView",
            "description": "",
            "description_tooltip": null,
            "layout": "IPY_MODEL_51bf42911eeb4f17b38d60a82496541e",
            "placeholder": "​",
            "style": "IPY_MODEL_ce25f93ea81e49aea46c3cfeb1ac5bd6",
            "value": " 357/357 [00:00&lt;00:00, 25.1kB/s]"
          }
        },
        "4277aa72d17745e08450d3888a20bd98": {
          "model_module": "@jupyter-widgets/base",
          "model_name": "LayoutModel",
          "model_module_version": "1.2.0",
          "state": {
            "_model_module": "@jupyter-widgets/base",
            "_model_module_version": "1.2.0",
            "_model_name": "LayoutModel",
            "_view_count": null,
            "_view_module": "@jupyter-widgets/base",
            "_view_module_version": "1.2.0",
            "_view_name": "LayoutView",
            "align_content": null,
            "align_items": null,
            "align_self": null,
            "border": null,
            "bottom": null,
            "display": null,
            "flex": null,
            "flex_flow": null,
            "grid_area": null,
            "grid_auto_columns": null,
            "grid_auto_flow": null,
            "grid_auto_rows": null,
            "grid_column": null,
            "grid_gap": null,
            "grid_row": null,
            "grid_template_areas": null,
            "grid_template_columns": null,
            "grid_template_rows": null,
            "height": null,
            "justify_content": null,
            "justify_items": null,
            "left": null,
            "margin": null,
            "max_height": null,
            "max_width": null,
            "min_height": null,
            "min_width": null,
            "object_fit": null,
            "object_position": null,
            "order": null,
            "overflow": null,
            "overflow_x": null,
            "overflow_y": null,
            "padding": null,
            "right": null,
            "top": null,
            "visibility": null,
            "width": null
          }
        },
        "69465bfbf0534d848e19e213e306f6c3": {
          "model_module": "@jupyter-widgets/base",
          "model_name": "LayoutModel",
          "model_module_version": "1.2.0",
          "state": {
            "_model_module": "@jupyter-widgets/base",
            "_model_module_version": "1.2.0",
            "_model_name": "LayoutModel",
            "_view_count": null,
            "_view_module": "@jupyter-widgets/base",
            "_view_module_version": "1.2.0",
            "_view_name": "LayoutView",
            "align_content": null,
            "align_items": null,
            "align_self": null,
            "border": null,
            "bottom": null,
            "display": null,
            "flex": null,
            "flex_flow": null,
            "grid_area": null,
            "grid_auto_columns": null,
            "grid_auto_flow": null,
            "grid_auto_rows": null,
            "grid_column": null,
            "grid_gap": null,
            "grid_row": null,
            "grid_template_areas": null,
            "grid_template_columns": null,
            "grid_template_rows": null,
            "height": null,
            "justify_content": null,
            "justify_items": null,
            "left": null,
            "margin": null,
            "max_height": null,
            "max_width": null,
            "min_height": null,
            "min_width": null,
            "object_fit": null,
            "object_position": null,
            "order": null,
            "overflow": null,
            "overflow_x": null,
            "overflow_y": null,
            "padding": null,
            "right": null,
            "top": null,
            "visibility": null,
            "width": null
          }
        },
        "bce9eae191dd4f6e8c3aaf26173e4dbd": {
          "model_module": "@jupyter-widgets/controls",
          "model_name": "DescriptionStyleModel",
          "model_module_version": "1.5.0",
          "state": {
            "_model_module": "@jupyter-widgets/controls",
            "_model_module_version": "1.5.0",
            "_model_name": "DescriptionStyleModel",
            "_view_count": null,
            "_view_module": "@jupyter-widgets/base",
            "_view_module_version": "1.2.0",
            "_view_name": "StyleView",
            "description_width": ""
          }
        },
        "38abeee0b2ea45bbbd8066a44a7f230e": {
          "model_module": "@jupyter-widgets/base",
          "model_name": "LayoutModel",
          "model_module_version": "1.2.0",
          "state": {
            "_model_module": "@jupyter-widgets/base",
            "_model_module_version": "1.2.0",
            "_model_name": "LayoutModel",
            "_view_count": null,
            "_view_module": "@jupyter-widgets/base",
            "_view_module_version": "1.2.0",
            "_view_name": "LayoutView",
            "align_content": null,
            "align_items": null,
            "align_self": null,
            "border": null,
            "bottom": null,
            "display": null,
            "flex": null,
            "flex_flow": null,
            "grid_area": null,
            "grid_auto_columns": null,
            "grid_auto_flow": null,
            "grid_auto_rows": null,
            "grid_column": null,
            "grid_gap": null,
            "grid_row": null,
            "grid_template_areas": null,
            "grid_template_columns": null,
            "grid_template_rows": null,
            "height": null,
            "justify_content": null,
            "justify_items": null,
            "left": null,
            "margin": null,
            "max_height": null,
            "max_width": null,
            "min_height": null,
            "min_width": null,
            "object_fit": null,
            "object_position": null,
            "order": null,
            "overflow": null,
            "overflow_x": null,
            "overflow_y": null,
            "padding": null,
            "right": null,
            "top": null,
            "visibility": null,
            "width": null
          }
        },
        "9decf9b4df674ad082e08cb9821e7569": {
          "model_module": "@jupyter-widgets/controls",
          "model_name": "ProgressStyleModel",
          "model_module_version": "1.5.0",
          "state": {
            "_model_module": "@jupyter-widgets/controls",
            "_model_module_version": "1.5.0",
            "_model_name": "ProgressStyleModel",
            "_view_count": null,
            "_view_module": "@jupyter-widgets/base",
            "_view_module_version": "1.2.0",
            "_view_name": "StyleView",
            "bar_color": null,
            "description_width": ""
          }
        },
        "51bf42911eeb4f17b38d60a82496541e": {
          "model_module": "@jupyter-widgets/base",
          "model_name": "LayoutModel",
          "model_module_version": "1.2.0",
          "state": {
            "_model_module": "@jupyter-widgets/base",
            "_model_module_version": "1.2.0",
            "_model_name": "LayoutModel",
            "_view_count": null,
            "_view_module": "@jupyter-widgets/base",
            "_view_module_version": "1.2.0",
            "_view_name": "LayoutView",
            "align_content": null,
            "align_items": null,
            "align_self": null,
            "border": null,
            "bottom": null,
            "display": null,
            "flex": null,
            "flex_flow": null,
            "grid_area": null,
            "grid_auto_columns": null,
            "grid_auto_flow": null,
            "grid_auto_rows": null,
            "grid_column": null,
            "grid_gap": null,
            "grid_row": null,
            "grid_template_areas": null,
            "grid_template_columns": null,
            "grid_template_rows": null,
            "height": null,
            "justify_content": null,
            "justify_items": null,
            "left": null,
            "margin": null,
            "max_height": null,
            "max_width": null,
            "min_height": null,
            "min_width": null,
            "object_fit": null,
            "object_position": null,
            "order": null,
            "overflow": null,
            "overflow_x": null,
            "overflow_y": null,
            "padding": null,
            "right": null,
            "top": null,
            "visibility": null,
            "width": null
          }
        },
        "ce25f93ea81e49aea46c3cfeb1ac5bd6": {
          "model_module": "@jupyter-widgets/controls",
          "model_name": "DescriptionStyleModel",
          "model_module_version": "1.5.0",
          "state": {
            "_model_module": "@jupyter-widgets/controls",
            "_model_module_version": "1.5.0",
            "_model_name": "DescriptionStyleModel",
            "_view_count": null,
            "_view_module": "@jupyter-widgets/base",
            "_view_module_version": "1.2.0",
            "_view_name": "StyleView",
            "description_width": ""
          }
        },
        "06fcb2862a7043cdab98e2f36fc05fe4": {
          "model_module": "@jupyter-widgets/controls",
          "model_name": "HBoxModel",
          "model_module_version": "1.5.0",
          "state": {
            "_dom_classes": [],
            "_model_module": "@jupyter-widgets/controls",
            "_model_module_version": "1.5.0",
            "_model_name": "HBoxModel",
            "_view_count": null,
            "_view_module": "@jupyter-widgets/controls",
            "_view_module_version": "1.5.0",
            "_view_name": "HBoxView",
            "box_style": "",
            "children": [
              "IPY_MODEL_3263ebeb40604ac4b475b6b35b5c6668",
              "IPY_MODEL_0df1004b0e134751bc554798b27aea6b",
              "IPY_MODEL_480596951ddb471893d1efb94bb9971c"
            ],
            "layout": "IPY_MODEL_3d846d7e18254e32b25769166d84540a"
          }
        },
        "3263ebeb40604ac4b475b6b35b5c6668": {
          "model_module": "@jupyter-widgets/controls",
          "model_name": "HTMLModel",
          "model_module_version": "1.5.0",
          "state": {
            "_dom_classes": [],
            "_model_module": "@jupyter-widgets/controls",
            "_model_module_version": "1.5.0",
            "_model_name": "HTMLModel",
            "_view_count": null,
            "_view_module": "@jupyter-widgets/controls",
            "_view_module_version": "1.5.0",
            "_view_name": "HTMLView",
            "description": "",
            "description_tooltip": null,
            "layout": "IPY_MODEL_beafe85f63c348038ad80dbb84243733",
            "placeholder": "​",
            "style": "IPY_MODEL_76626c00028644cbbef45761f69f0b62",
            "value": "Downloading (…)okenizer_config.json: 100%"
          }
        },
        "0df1004b0e134751bc554798b27aea6b": {
          "model_module": "@jupyter-widgets/controls",
          "model_name": "FloatProgressModel",
          "model_module_version": "1.5.0",
          "state": {
            "_dom_classes": [],
            "_model_module": "@jupyter-widgets/controls",
            "_model_module_version": "1.5.0",
            "_model_name": "FloatProgressModel",
            "_view_count": null,
            "_view_module": "@jupyter-widgets/controls",
            "_view_module_version": "1.5.0",
            "_view_name": "ProgressView",
            "bar_style": "success",
            "description": "",
            "description_tooltip": null,
            "layout": "IPY_MODEL_69517e568b9642f495d8602eb50c915d",
            "max": 560,
            "min": 0,
            "orientation": "horizontal",
            "style": "IPY_MODEL_5a604939ca6f40e6bc84875dcc62e7cf",
            "value": 560
          }
        },
        "480596951ddb471893d1efb94bb9971c": {
          "model_module": "@jupyter-widgets/controls",
          "model_name": "HTMLModel",
          "model_module_version": "1.5.0",
          "state": {
            "_dom_classes": [],
            "_model_module": "@jupyter-widgets/controls",
            "_model_module_version": "1.5.0",
            "_model_name": "HTMLModel",
            "_view_count": null,
            "_view_module": "@jupyter-widgets/controls",
            "_view_module_version": "1.5.0",
            "_view_name": "HTMLView",
            "description": "",
            "description_tooltip": null,
            "layout": "IPY_MODEL_019e3692fa66469b8cb520d4459cf4ae",
            "placeholder": "​",
            "style": "IPY_MODEL_a5765ae4a1234aee84a97e876e08663f",
            "value": " 560/560 [00:00&lt;00:00, 25.8kB/s]"
          }
        },
        "3d846d7e18254e32b25769166d84540a": {
          "model_module": "@jupyter-widgets/base",
          "model_name": "LayoutModel",
          "model_module_version": "1.2.0",
          "state": {
            "_model_module": "@jupyter-widgets/base",
            "_model_module_version": "1.2.0",
            "_model_name": "LayoutModel",
            "_view_count": null,
            "_view_module": "@jupyter-widgets/base",
            "_view_module_version": "1.2.0",
            "_view_name": "LayoutView",
            "align_content": null,
            "align_items": null,
            "align_self": null,
            "border": null,
            "bottom": null,
            "display": null,
            "flex": null,
            "flex_flow": null,
            "grid_area": null,
            "grid_auto_columns": null,
            "grid_auto_flow": null,
            "grid_auto_rows": null,
            "grid_column": null,
            "grid_gap": null,
            "grid_row": null,
            "grid_template_areas": null,
            "grid_template_columns": null,
            "grid_template_rows": null,
            "height": null,
            "justify_content": null,
            "justify_items": null,
            "left": null,
            "margin": null,
            "max_height": null,
            "max_width": null,
            "min_height": null,
            "min_width": null,
            "object_fit": null,
            "object_position": null,
            "order": null,
            "overflow": null,
            "overflow_x": null,
            "overflow_y": null,
            "padding": null,
            "right": null,
            "top": null,
            "visibility": null,
            "width": null
          }
        },
        "beafe85f63c348038ad80dbb84243733": {
          "model_module": "@jupyter-widgets/base",
          "model_name": "LayoutModel",
          "model_module_version": "1.2.0",
          "state": {
            "_model_module": "@jupyter-widgets/base",
            "_model_module_version": "1.2.0",
            "_model_name": "LayoutModel",
            "_view_count": null,
            "_view_module": "@jupyter-widgets/base",
            "_view_module_version": "1.2.0",
            "_view_name": "LayoutView",
            "align_content": null,
            "align_items": null,
            "align_self": null,
            "border": null,
            "bottom": null,
            "display": null,
            "flex": null,
            "flex_flow": null,
            "grid_area": null,
            "grid_auto_columns": null,
            "grid_auto_flow": null,
            "grid_auto_rows": null,
            "grid_column": null,
            "grid_gap": null,
            "grid_row": null,
            "grid_template_areas": null,
            "grid_template_columns": null,
            "grid_template_rows": null,
            "height": null,
            "justify_content": null,
            "justify_items": null,
            "left": null,
            "margin": null,
            "max_height": null,
            "max_width": null,
            "min_height": null,
            "min_width": null,
            "object_fit": null,
            "object_position": null,
            "order": null,
            "overflow": null,
            "overflow_x": null,
            "overflow_y": null,
            "padding": null,
            "right": null,
            "top": null,
            "visibility": null,
            "width": null
          }
        },
        "76626c00028644cbbef45761f69f0b62": {
          "model_module": "@jupyter-widgets/controls",
          "model_name": "DescriptionStyleModel",
          "model_module_version": "1.5.0",
          "state": {
            "_model_module": "@jupyter-widgets/controls",
            "_model_module_version": "1.5.0",
            "_model_name": "DescriptionStyleModel",
            "_view_count": null,
            "_view_module": "@jupyter-widgets/base",
            "_view_module_version": "1.2.0",
            "_view_name": "StyleView",
            "description_width": ""
          }
        },
        "69517e568b9642f495d8602eb50c915d": {
          "model_module": "@jupyter-widgets/base",
          "model_name": "LayoutModel",
          "model_module_version": "1.2.0",
          "state": {
            "_model_module": "@jupyter-widgets/base",
            "_model_module_version": "1.2.0",
            "_model_name": "LayoutModel",
            "_view_count": null,
            "_view_module": "@jupyter-widgets/base",
            "_view_module_version": "1.2.0",
            "_view_name": "LayoutView",
            "align_content": null,
            "align_items": null,
            "align_self": null,
            "border": null,
            "bottom": null,
            "display": null,
            "flex": null,
            "flex_flow": null,
            "grid_area": null,
            "grid_auto_columns": null,
            "grid_auto_flow": null,
            "grid_auto_rows": null,
            "grid_column": null,
            "grid_gap": null,
            "grid_row": null,
            "grid_template_areas": null,
            "grid_template_columns": null,
            "grid_template_rows": null,
            "height": null,
            "justify_content": null,
            "justify_items": null,
            "left": null,
            "margin": null,
            "max_height": null,
            "max_width": null,
            "min_height": null,
            "min_width": null,
            "object_fit": null,
            "object_position": null,
            "order": null,
            "overflow": null,
            "overflow_x": null,
            "overflow_y": null,
            "padding": null,
            "right": null,
            "top": null,
            "visibility": null,
            "width": null
          }
        },
        "5a604939ca6f40e6bc84875dcc62e7cf": {
          "model_module": "@jupyter-widgets/controls",
          "model_name": "ProgressStyleModel",
          "model_module_version": "1.5.0",
          "state": {
            "_model_module": "@jupyter-widgets/controls",
            "_model_module_version": "1.5.0",
            "_model_name": "ProgressStyleModel",
            "_view_count": null,
            "_view_module": "@jupyter-widgets/base",
            "_view_module_version": "1.2.0",
            "_view_name": "StyleView",
            "bar_color": null,
            "description_width": ""
          }
        },
        "019e3692fa66469b8cb520d4459cf4ae": {
          "model_module": "@jupyter-widgets/base",
          "model_name": "LayoutModel",
          "model_module_version": "1.2.0",
          "state": {
            "_model_module": "@jupyter-widgets/base",
            "_model_module_version": "1.2.0",
            "_model_name": "LayoutModel",
            "_view_count": null,
            "_view_module": "@jupyter-widgets/base",
            "_view_module_version": "1.2.0",
            "_view_name": "LayoutView",
            "align_content": null,
            "align_items": null,
            "align_self": null,
            "border": null,
            "bottom": null,
            "display": null,
            "flex": null,
            "flex_flow": null,
            "grid_area": null,
            "grid_auto_columns": null,
            "grid_auto_flow": null,
            "grid_auto_rows": null,
            "grid_column": null,
            "grid_gap": null,
            "grid_row": null,
            "grid_template_areas": null,
            "grid_template_columns": null,
            "grid_template_rows": null,
            "height": null,
            "justify_content": null,
            "justify_items": null,
            "left": null,
            "margin": null,
            "max_height": null,
            "max_width": null,
            "min_height": null,
            "min_width": null,
            "object_fit": null,
            "object_position": null,
            "order": null,
            "overflow": null,
            "overflow_x": null,
            "overflow_y": null,
            "padding": null,
            "right": null,
            "top": null,
            "visibility": null,
            "width": null
          }
        },
        "a5765ae4a1234aee84a97e876e08663f": {
          "model_module": "@jupyter-widgets/controls",
          "model_name": "DescriptionStyleModel",
          "model_module_version": "1.5.0",
          "state": {
            "_model_module": "@jupyter-widgets/controls",
            "_model_module_version": "1.5.0",
            "_model_name": "DescriptionStyleModel",
            "_view_count": null,
            "_view_module": "@jupyter-widgets/base",
            "_view_module_version": "1.2.0",
            "_view_name": "StyleView",
            "description_width": ""
          }
        },
        "3fb5def8241342f687327cde5c446c99": {
          "model_module": "@jupyter-widgets/controls",
          "model_name": "HBoxModel",
          "model_module_version": "1.5.0",
          "state": {
            "_dom_classes": [],
            "_model_module": "@jupyter-widgets/controls",
            "_model_module_version": "1.5.0",
            "_model_name": "HBoxModel",
            "_view_count": null,
            "_view_module": "@jupyter-widgets/controls",
            "_view_module_version": "1.5.0",
            "_view_name": "HBoxView",
            "box_style": "",
            "children": [
              "IPY_MODEL_85c872e4063842d5829643c0c3809d00",
              "IPY_MODEL_d9b3ccd2fb9243aa94882c0428e4193d",
              "IPY_MODEL_73d6c2db63df4cf88dd53ddf756964b3"
            ],
            "layout": "IPY_MODEL_115267bfdca84430a2980e6d6d362322"
          }
        },
        "85c872e4063842d5829643c0c3809d00": {
          "model_module": "@jupyter-widgets/controls",
          "model_name": "HTMLModel",
          "model_module_version": "1.5.0",
          "state": {
            "_dom_classes": [],
            "_model_module": "@jupyter-widgets/controls",
            "_model_module_version": "1.5.0",
            "_model_name": "HTMLModel",
            "_view_count": null,
            "_view_module": "@jupyter-widgets/controls",
            "_view_module_version": "1.5.0",
            "_view_name": "HTMLView",
            "description": "",
            "description_tooltip": null,
            "layout": "IPY_MODEL_393753d96d0b412fab48c20f2094fca4",
            "placeholder": "​",
            "style": "IPY_MODEL_4e7062682b204a6ebbb5b6945f5bff94",
            "value": "Downloading (…)lve/main/config.json: 100%"
          }
        },
        "d9b3ccd2fb9243aa94882c0428e4193d": {
          "model_module": "@jupyter-widgets/controls",
          "model_name": "FloatProgressModel",
          "model_module_version": "1.5.0",
          "state": {
            "_dom_classes": [],
            "_model_module": "@jupyter-widgets/controls",
            "_model_module_version": "1.5.0",
            "_model_name": "FloatProgressModel",
            "_view_count": null,
            "_view_module": "@jupyter-widgets/controls",
            "_view_module_version": "1.5.0",
            "_view_name": "ProgressView",
            "bar_style": "success",
            "description": "",
            "description_tooltip": null,
            "layout": "IPY_MODEL_7b252eb61bb1423c8429f1bcee6e1284",
            "max": 1007,
            "min": 0,
            "orientation": "horizontal",
            "style": "IPY_MODEL_be83102e6613464fbfea15ed375a1fdf",
            "value": 1007
          }
        },
        "73d6c2db63df4cf88dd53ddf756964b3": {
          "model_module": "@jupyter-widgets/controls",
          "model_name": "HTMLModel",
          "model_module_version": "1.5.0",
          "state": {
            "_dom_classes": [],
            "_model_module": "@jupyter-widgets/controls",
            "_model_module_version": "1.5.0",
            "_model_name": "HTMLModel",
            "_view_count": null,
            "_view_module": "@jupyter-widgets/controls",
            "_view_module_version": "1.5.0",
            "_view_name": "HTMLView",
            "description": "",
            "description_tooltip": null,
            "layout": "IPY_MODEL_29165ba922d7481a8ac34f79aae6c292",
            "placeholder": "​",
            "style": "IPY_MODEL_7cf9b8ef50724fd787842eb06138d010",
            "value": " 1.01k/1.01k [00:00&lt;00:00, 68.6kB/s]"
          }
        },
        "115267bfdca84430a2980e6d6d362322": {
          "model_module": "@jupyter-widgets/base",
          "model_name": "LayoutModel",
          "model_module_version": "1.2.0",
          "state": {
            "_model_module": "@jupyter-widgets/base",
            "_model_module_version": "1.2.0",
            "_model_name": "LayoutModel",
            "_view_count": null,
            "_view_module": "@jupyter-widgets/base",
            "_view_module_version": "1.2.0",
            "_view_name": "LayoutView",
            "align_content": null,
            "align_items": null,
            "align_self": null,
            "border": null,
            "bottom": null,
            "display": null,
            "flex": null,
            "flex_flow": null,
            "grid_area": null,
            "grid_auto_columns": null,
            "grid_auto_flow": null,
            "grid_auto_rows": null,
            "grid_column": null,
            "grid_gap": null,
            "grid_row": null,
            "grid_template_areas": null,
            "grid_template_columns": null,
            "grid_template_rows": null,
            "height": null,
            "justify_content": null,
            "justify_items": null,
            "left": null,
            "margin": null,
            "max_height": null,
            "max_width": null,
            "min_height": null,
            "min_width": null,
            "object_fit": null,
            "object_position": null,
            "order": null,
            "overflow": null,
            "overflow_x": null,
            "overflow_y": null,
            "padding": null,
            "right": null,
            "top": null,
            "visibility": null,
            "width": null
          }
        },
        "393753d96d0b412fab48c20f2094fca4": {
          "model_module": "@jupyter-widgets/base",
          "model_name": "LayoutModel",
          "model_module_version": "1.2.0",
          "state": {
            "_model_module": "@jupyter-widgets/base",
            "_model_module_version": "1.2.0",
            "_model_name": "LayoutModel",
            "_view_count": null,
            "_view_module": "@jupyter-widgets/base",
            "_view_module_version": "1.2.0",
            "_view_name": "LayoutView",
            "align_content": null,
            "align_items": null,
            "align_self": null,
            "border": null,
            "bottom": null,
            "display": null,
            "flex": null,
            "flex_flow": null,
            "grid_area": null,
            "grid_auto_columns": null,
            "grid_auto_flow": null,
            "grid_auto_rows": null,
            "grid_column": null,
            "grid_gap": null,
            "grid_row": null,
            "grid_template_areas": null,
            "grid_template_columns": null,
            "grid_template_rows": null,
            "height": null,
            "justify_content": null,
            "justify_items": null,
            "left": null,
            "margin": null,
            "max_height": null,
            "max_width": null,
            "min_height": null,
            "min_width": null,
            "object_fit": null,
            "object_position": null,
            "order": null,
            "overflow": null,
            "overflow_x": null,
            "overflow_y": null,
            "padding": null,
            "right": null,
            "top": null,
            "visibility": null,
            "width": null
          }
        },
        "4e7062682b204a6ebbb5b6945f5bff94": {
          "model_module": "@jupyter-widgets/controls",
          "model_name": "DescriptionStyleModel",
          "model_module_version": "1.5.0",
          "state": {
            "_model_module": "@jupyter-widgets/controls",
            "_model_module_version": "1.5.0",
            "_model_name": "DescriptionStyleModel",
            "_view_count": null,
            "_view_module": "@jupyter-widgets/base",
            "_view_module_version": "1.2.0",
            "_view_name": "StyleView",
            "description_width": ""
          }
        },
        "7b252eb61bb1423c8429f1bcee6e1284": {
          "model_module": "@jupyter-widgets/base",
          "model_name": "LayoutModel",
          "model_module_version": "1.2.0",
          "state": {
            "_model_module": "@jupyter-widgets/base",
            "_model_module_version": "1.2.0",
            "_model_name": "LayoutModel",
            "_view_count": null,
            "_view_module": "@jupyter-widgets/base",
            "_view_module_version": "1.2.0",
            "_view_name": "LayoutView",
            "align_content": null,
            "align_items": null,
            "align_self": null,
            "border": null,
            "bottom": null,
            "display": null,
            "flex": null,
            "flex_flow": null,
            "grid_area": null,
            "grid_auto_columns": null,
            "grid_auto_flow": null,
            "grid_auto_rows": null,
            "grid_column": null,
            "grid_gap": null,
            "grid_row": null,
            "grid_template_areas": null,
            "grid_template_columns": null,
            "grid_template_rows": null,
            "height": null,
            "justify_content": null,
            "justify_items": null,
            "left": null,
            "margin": null,
            "max_height": null,
            "max_width": null,
            "min_height": null,
            "min_width": null,
            "object_fit": null,
            "object_position": null,
            "order": null,
            "overflow": null,
            "overflow_x": null,
            "overflow_y": null,
            "padding": null,
            "right": null,
            "top": null,
            "visibility": null,
            "width": null
          }
        },
        "be83102e6613464fbfea15ed375a1fdf": {
          "model_module": "@jupyter-widgets/controls",
          "model_name": "ProgressStyleModel",
          "model_module_version": "1.5.0",
          "state": {
            "_model_module": "@jupyter-widgets/controls",
            "_model_module_version": "1.5.0",
            "_model_name": "ProgressStyleModel",
            "_view_count": null,
            "_view_module": "@jupyter-widgets/base",
            "_view_module_version": "1.2.0",
            "_view_name": "StyleView",
            "bar_color": null,
            "description_width": ""
          }
        },
        "29165ba922d7481a8ac34f79aae6c292": {
          "model_module": "@jupyter-widgets/base",
          "model_name": "LayoutModel",
          "model_module_version": "1.2.0",
          "state": {
            "_model_module": "@jupyter-widgets/base",
            "_model_module_version": "1.2.0",
            "_model_name": "LayoutModel",
            "_view_count": null,
            "_view_module": "@jupyter-widgets/base",
            "_view_module_version": "1.2.0",
            "_view_name": "LayoutView",
            "align_content": null,
            "align_items": null,
            "align_self": null,
            "border": null,
            "bottom": null,
            "display": null,
            "flex": null,
            "flex_flow": null,
            "grid_area": null,
            "grid_auto_columns": null,
            "grid_auto_flow": null,
            "grid_auto_rows": null,
            "grid_column": null,
            "grid_gap": null,
            "grid_row": null,
            "grid_template_areas": null,
            "grid_template_columns": null,
            "grid_template_rows": null,
            "height": null,
            "justify_content": null,
            "justify_items": null,
            "left": null,
            "margin": null,
            "max_height": null,
            "max_width": null,
            "min_height": null,
            "min_width": null,
            "object_fit": null,
            "object_position": null,
            "order": null,
            "overflow": null,
            "overflow_x": null,
            "overflow_y": null,
            "padding": null,
            "right": null,
            "top": null,
            "visibility": null,
            "width": null
          }
        },
        "7cf9b8ef50724fd787842eb06138d010": {
          "model_module": "@jupyter-widgets/controls",
          "model_name": "DescriptionStyleModel",
          "model_module_version": "1.5.0",
          "state": {
            "_model_module": "@jupyter-widgets/controls",
            "_model_module_version": "1.5.0",
            "_model_name": "DescriptionStyleModel",
            "_view_count": null,
            "_view_module": "@jupyter-widgets/base",
            "_view_module_version": "1.2.0",
            "_view_name": "StyleView",
            "description_width": ""
          }
        },
        "941603872c7b4bd585bff5f50b5ea9ac": {
          "model_module": "@jupyter-widgets/controls",
          "model_name": "HBoxModel",
          "model_module_version": "1.5.0",
          "state": {
            "_dom_classes": [],
            "_model_module": "@jupyter-widgets/controls",
            "_model_module_version": "1.5.0",
            "_model_name": "HBoxModel",
            "_view_count": null,
            "_view_module": "@jupyter-widgets/controls",
            "_view_module_version": "1.5.0",
            "_view_name": "HBoxView",
            "box_style": "",
            "children": [
              "IPY_MODEL_9188ad9b52a54e9e84525f478b15ff96",
              "IPY_MODEL_7380398e18ce4151892a86d76d4fc69f",
              "IPY_MODEL_ec4abf8f06784ab5bceec0b9711c2a2f"
            ],
            "layout": "IPY_MODEL_7ebb54f9f4044e69891ef42133111784"
          }
        },
        "9188ad9b52a54e9e84525f478b15ff96": {
          "model_module": "@jupyter-widgets/controls",
          "model_name": "HTMLModel",
          "model_module_version": "1.5.0",
          "state": {
            "_dom_classes": [],
            "_model_module": "@jupyter-widgets/controls",
            "_model_module_version": "1.5.0",
            "_model_name": "HTMLModel",
            "_view_count": null,
            "_view_module": "@jupyter-widgets/controls",
            "_view_module_version": "1.5.0",
            "_view_name": "HTMLView",
            "description": "",
            "description_tooltip": null,
            "layout": "IPY_MODEL_f6535ea00ebd4eb48e930eb32559732b",
            "placeholder": "​",
            "style": "IPY_MODEL_86fc2d1e85c34f53916e98b48eae170f",
            "value": "Downloading model.safetensors: 100%"
          }
        },
        "7380398e18ce4151892a86d76d4fc69f": {
          "model_module": "@jupyter-widgets/controls",
          "model_name": "FloatProgressModel",
          "model_module_version": "1.5.0",
          "state": {
            "_dom_classes": [],
            "_model_module": "@jupyter-widgets/controls",
            "_model_module_version": "1.5.0",
            "_model_name": "FloatProgressModel",
            "_view_count": null,
            "_view_module": "@jupyter-widgets/controls",
            "_view_module_version": "1.5.0",
            "_view_name": "ProgressView",
            "bar_style": "success",
            "description": "",
            "description_tooltip": null,
            "layout": "IPY_MODEL_906e606ceac944b98798f0194ce5a123",
            "max": 525979192,
            "min": 0,
            "orientation": "horizontal",
            "style": "IPY_MODEL_a76cfe9bb22c423783208df9771891e4",
            "value": 525979192
          }
        },
        "ec4abf8f06784ab5bceec0b9711c2a2f": {
          "model_module": "@jupyter-widgets/controls",
          "model_name": "HTMLModel",
          "model_module_version": "1.5.0",
          "state": {
            "_dom_classes": [],
            "_model_module": "@jupyter-widgets/controls",
            "_model_module_version": "1.5.0",
            "_model_name": "HTMLModel",
            "_view_count": null,
            "_view_module": "@jupyter-widgets/controls",
            "_view_module_version": "1.5.0",
            "_view_name": "HTMLView",
            "description": "",
            "description_tooltip": null,
            "layout": "IPY_MODEL_5b7db285f672446a9561e503b9a66a63",
            "placeholder": "​",
            "style": "IPY_MODEL_2f0bb96b7aa3406f85a5bfa46c1a791a",
            "value": " 526M/526M [00:03&lt;00:00, 67.2MB/s]"
          }
        },
        "7ebb54f9f4044e69891ef42133111784": {
          "model_module": "@jupyter-widgets/base",
          "model_name": "LayoutModel",
          "model_module_version": "1.2.0",
          "state": {
            "_model_module": "@jupyter-widgets/base",
            "_model_module_version": "1.2.0",
            "_model_name": "LayoutModel",
            "_view_count": null,
            "_view_module": "@jupyter-widgets/base",
            "_view_module_version": "1.2.0",
            "_view_name": "LayoutView",
            "align_content": null,
            "align_items": null,
            "align_self": null,
            "border": null,
            "bottom": null,
            "display": null,
            "flex": null,
            "flex_flow": null,
            "grid_area": null,
            "grid_auto_columns": null,
            "grid_auto_flow": null,
            "grid_auto_rows": null,
            "grid_column": null,
            "grid_gap": null,
            "grid_row": null,
            "grid_template_areas": null,
            "grid_template_columns": null,
            "grid_template_rows": null,
            "height": null,
            "justify_content": null,
            "justify_items": null,
            "left": null,
            "margin": null,
            "max_height": null,
            "max_width": null,
            "min_height": null,
            "min_width": null,
            "object_fit": null,
            "object_position": null,
            "order": null,
            "overflow": null,
            "overflow_x": null,
            "overflow_y": null,
            "padding": null,
            "right": null,
            "top": null,
            "visibility": null,
            "width": null
          }
        },
        "f6535ea00ebd4eb48e930eb32559732b": {
          "model_module": "@jupyter-widgets/base",
          "model_name": "LayoutModel",
          "model_module_version": "1.2.0",
          "state": {
            "_model_module": "@jupyter-widgets/base",
            "_model_module_version": "1.2.0",
            "_model_name": "LayoutModel",
            "_view_count": null,
            "_view_module": "@jupyter-widgets/base",
            "_view_module_version": "1.2.0",
            "_view_name": "LayoutView",
            "align_content": null,
            "align_items": null,
            "align_self": null,
            "border": null,
            "bottom": null,
            "display": null,
            "flex": null,
            "flex_flow": null,
            "grid_area": null,
            "grid_auto_columns": null,
            "grid_auto_flow": null,
            "grid_auto_rows": null,
            "grid_column": null,
            "grid_gap": null,
            "grid_row": null,
            "grid_template_areas": null,
            "grid_template_columns": null,
            "grid_template_rows": null,
            "height": null,
            "justify_content": null,
            "justify_items": null,
            "left": null,
            "margin": null,
            "max_height": null,
            "max_width": null,
            "min_height": null,
            "min_width": null,
            "object_fit": null,
            "object_position": null,
            "order": null,
            "overflow": null,
            "overflow_x": null,
            "overflow_y": null,
            "padding": null,
            "right": null,
            "top": null,
            "visibility": null,
            "width": null
          }
        },
        "86fc2d1e85c34f53916e98b48eae170f": {
          "model_module": "@jupyter-widgets/controls",
          "model_name": "DescriptionStyleModel",
          "model_module_version": "1.5.0",
          "state": {
            "_model_module": "@jupyter-widgets/controls",
            "_model_module_version": "1.5.0",
            "_model_name": "DescriptionStyleModel",
            "_view_count": null,
            "_view_module": "@jupyter-widgets/base",
            "_view_module_version": "1.2.0",
            "_view_name": "StyleView",
            "description_width": ""
          }
        },
        "906e606ceac944b98798f0194ce5a123": {
          "model_module": "@jupyter-widgets/base",
          "model_name": "LayoutModel",
          "model_module_version": "1.2.0",
          "state": {
            "_model_module": "@jupyter-widgets/base",
            "_model_module_version": "1.2.0",
            "_model_name": "LayoutModel",
            "_view_count": null,
            "_view_module": "@jupyter-widgets/base",
            "_view_module_version": "1.2.0",
            "_view_name": "LayoutView",
            "align_content": null,
            "align_items": null,
            "align_self": null,
            "border": null,
            "bottom": null,
            "display": null,
            "flex": null,
            "flex_flow": null,
            "grid_area": null,
            "grid_auto_columns": null,
            "grid_auto_flow": null,
            "grid_auto_rows": null,
            "grid_column": null,
            "grid_gap": null,
            "grid_row": null,
            "grid_template_areas": null,
            "grid_template_columns": null,
            "grid_template_rows": null,
            "height": null,
            "justify_content": null,
            "justify_items": null,
            "left": null,
            "margin": null,
            "max_height": null,
            "max_width": null,
            "min_height": null,
            "min_width": null,
            "object_fit": null,
            "object_position": null,
            "order": null,
            "overflow": null,
            "overflow_x": null,
            "overflow_y": null,
            "padding": null,
            "right": null,
            "top": null,
            "visibility": null,
            "width": null
          }
        },
        "a76cfe9bb22c423783208df9771891e4": {
          "model_module": "@jupyter-widgets/controls",
          "model_name": "ProgressStyleModel",
          "model_module_version": "1.5.0",
          "state": {
            "_model_module": "@jupyter-widgets/controls",
            "_model_module_version": "1.5.0",
            "_model_name": "ProgressStyleModel",
            "_view_count": null,
            "_view_module": "@jupyter-widgets/base",
            "_view_module_version": "1.2.0",
            "_view_name": "StyleView",
            "bar_color": null,
            "description_width": ""
          }
        },
        "5b7db285f672446a9561e503b9a66a63": {
          "model_module": "@jupyter-widgets/base",
          "model_name": "LayoutModel",
          "model_module_version": "1.2.0",
          "state": {
            "_model_module": "@jupyter-widgets/base",
            "_model_module_version": "1.2.0",
            "_model_name": "LayoutModel",
            "_view_count": null,
            "_view_module": "@jupyter-widgets/base",
            "_view_module_version": "1.2.0",
            "_view_name": "LayoutView",
            "align_content": null,
            "align_items": null,
            "align_self": null,
            "border": null,
            "bottom": null,
            "display": null,
            "flex": null,
            "flex_flow": null,
            "grid_area": null,
            "grid_auto_columns": null,
            "grid_auto_flow": null,
            "grid_auto_rows": null,
            "grid_column": null,
            "grid_gap": null,
            "grid_row": null,
            "grid_template_areas": null,
            "grid_template_columns": null,
            "grid_template_rows": null,
            "height": null,
            "justify_content": null,
            "justify_items": null,
            "left": null,
            "margin": null,
            "max_height": null,
            "max_width": null,
            "min_height": null,
            "min_width": null,
            "object_fit": null,
            "object_position": null,
            "order": null,
            "overflow": null,
            "overflow_x": null,
            "overflow_y": null,
            "padding": null,
            "right": null,
            "top": null,
            "visibility": null,
            "width": null
          }
        },
        "2f0bb96b7aa3406f85a5bfa46c1a791a": {
          "model_module": "@jupyter-widgets/controls",
          "model_name": "DescriptionStyleModel",
          "model_module_version": "1.5.0",
          "state": {
            "_model_module": "@jupyter-widgets/controls",
            "_model_module_version": "1.5.0",
            "_model_name": "DescriptionStyleModel",
            "_view_count": null,
            "_view_module": "@jupyter-widgets/base",
            "_view_module_version": "1.2.0",
            "_view_name": "StyleView",
            "description_width": ""
          }
        },
        "1208653a648e4cdf8aaa9947afe4dc80": {
          "model_module": "@jupyter-widgets/controls",
          "model_name": "VBoxModel",
          "model_module_version": "1.5.0",
          "state": {
            "_dom_classes": [],
            "_model_module": "@jupyter-widgets/controls",
            "_model_module_version": "1.5.0",
            "_model_name": "VBoxModel",
            "_view_count": null,
            "_view_module": "@jupyter-widgets/controls",
            "_view_module_version": "1.5.0",
            "_view_name": "VBoxView",
            "box_style": "",
            "children": [
              "IPY_MODEL_f6672e2e012f4645839922a018f8d12f",
              "IPY_MODEL_7eba93bbcb194f85bf3ca91aa15d294f",
              "IPY_MODEL_c74038e4830245959984629724f30a27",
              "IPY_MODEL_a94ad20c9835453384b8692154e1bfae",
              "IPY_MODEL_a121355a71224bb8b69bd19f5e45e0d6"
            ],
            "layout": "IPY_MODEL_d852e1b57f144a00b7c79158017de401"
          }
        },
        "f6672e2e012f4645839922a018f8d12f": {
          "model_module": "@jupyter-widgets/controls",
          "model_name": "HTMLModel",
          "model_module_version": "1.5.0",
          "state": {
            "_dom_classes": [],
            "_model_module": "@jupyter-widgets/controls",
            "_model_module_version": "1.5.0",
            "_model_name": "HTMLModel",
            "_view_count": null,
            "_view_module": "@jupyter-widgets/controls",
            "_view_module_version": "1.5.0",
            "_view_name": "HTMLView",
            "description": "",
            "description_tooltip": null,
            "layout": "IPY_MODEL_604b94b238f644e6bf6155aa4032bcb6",
            "placeholder": "​",
            "style": "IPY_MODEL_bea8e60c867f49808ecf202f51d6d7f2",
            "value": "<center> <img\nsrc=https://huggingface.co/front/assets/huggingface_logo-noborder.svg\nalt='Hugging Face'> <br> Copy a token from <a\nhref=\"https://huggingface.co/settings/tokens\" target=\"_blank\">your Hugging Face\ntokens page</a> and paste it below. <br> Immediately click login after copying\nyour token or it might be stored in plain text in this notebook file. </center>"
          }
        },
        "7eba93bbcb194f85bf3ca91aa15d294f": {
          "model_module": "@jupyter-widgets/controls",
          "model_name": "PasswordModel",
          "model_module_version": "1.5.0",
          "state": {
            "_dom_classes": [],
            "_model_module": "@jupyter-widgets/controls",
            "_model_module_version": "1.5.0",
            "_model_name": "PasswordModel",
            "_view_count": null,
            "_view_module": "@jupyter-widgets/controls",
            "_view_module_version": "1.5.0",
            "_view_name": "PasswordView",
            "continuous_update": true,
            "description": "Token:",
            "description_tooltip": null,
            "disabled": false,
            "layout": "IPY_MODEL_b4b18495cf9a4b4091563b03e36a85eb",
            "placeholder": "​",
            "style": "IPY_MODEL_e0c10006be3b4efbbae1a15257d69f35",
            "value": ""
          }
        },
        "c74038e4830245959984629724f30a27": {
          "model_module": "@jupyter-widgets/controls",
          "model_name": "CheckboxModel",
          "model_module_version": "1.5.0",
          "state": {
            "_dom_classes": [],
            "_model_module": "@jupyter-widgets/controls",
            "_model_module_version": "1.5.0",
            "_model_name": "CheckboxModel",
            "_view_count": null,
            "_view_module": "@jupyter-widgets/controls",
            "_view_module_version": "1.5.0",
            "_view_name": "CheckboxView",
            "description": "Add token as git credential?",
            "description_tooltip": null,
            "disabled": false,
            "indent": true,
            "layout": "IPY_MODEL_f9940062a063448685fec76ca70ebcbc",
            "style": "IPY_MODEL_4ebd75e30b9346faadb9d4218212d679",
            "value": true
          }
        },
        "a94ad20c9835453384b8692154e1bfae": {
          "model_module": "@jupyter-widgets/controls",
          "model_name": "ButtonModel",
          "model_module_version": "1.5.0",
          "state": {
            "_dom_classes": [],
            "_model_module": "@jupyter-widgets/controls",
            "_model_module_version": "1.5.0",
            "_model_name": "ButtonModel",
            "_view_count": null,
            "_view_module": "@jupyter-widgets/controls",
            "_view_module_version": "1.5.0",
            "_view_name": "ButtonView",
            "button_style": "",
            "description": "Login",
            "disabled": false,
            "icon": "",
            "layout": "IPY_MODEL_0ebb9ff1031447ae902c463c440f4544",
            "style": "IPY_MODEL_6e55e7c60ef846f18bb3224024db9314",
            "tooltip": ""
          }
        },
        "a121355a71224bb8b69bd19f5e45e0d6": {
          "model_module": "@jupyter-widgets/controls",
          "model_name": "HTMLModel",
          "model_module_version": "1.5.0",
          "state": {
            "_dom_classes": [],
            "_model_module": "@jupyter-widgets/controls",
            "_model_module_version": "1.5.0",
            "_model_name": "HTMLModel",
            "_view_count": null,
            "_view_module": "@jupyter-widgets/controls",
            "_view_module_version": "1.5.0",
            "_view_name": "HTMLView",
            "description": "",
            "description_tooltip": null,
            "layout": "IPY_MODEL_155d991e9ea8491d9027d52e588e0701",
            "placeholder": "​",
            "style": "IPY_MODEL_f2593294635442658d7af5cd8a2f91ee",
            "value": "\n<b>Pro Tip:</b> If you don't already have one, you can create a dedicated\n'notebooks' token with 'write' access, that you can then easily reuse for all\nnotebooks. </center>"
          }
        },
        "d852e1b57f144a00b7c79158017de401": {
          "model_module": "@jupyter-widgets/base",
          "model_name": "LayoutModel",
          "model_module_version": "1.2.0",
          "state": {
            "_model_module": "@jupyter-widgets/base",
            "_model_module_version": "1.2.0",
            "_model_name": "LayoutModel",
            "_view_count": null,
            "_view_module": "@jupyter-widgets/base",
            "_view_module_version": "1.2.0",
            "_view_name": "LayoutView",
            "align_content": null,
            "align_items": "center",
            "align_self": null,
            "border": null,
            "bottom": null,
            "display": "flex",
            "flex": null,
            "flex_flow": "column",
            "grid_area": null,
            "grid_auto_columns": null,
            "grid_auto_flow": null,
            "grid_auto_rows": null,
            "grid_column": null,
            "grid_gap": null,
            "grid_row": null,
            "grid_template_areas": null,
            "grid_template_columns": null,
            "grid_template_rows": null,
            "height": null,
            "justify_content": null,
            "justify_items": null,
            "left": null,
            "margin": null,
            "max_height": null,
            "max_width": null,
            "min_height": null,
            "min_width": null,
            "object_fit": null,
            "object_position": null,
            "order": null,
            "overflow": null,
            "overflow_x": null,
            "overflow_y": null,
            "padding": null,
            "right": null,
            "top": null,
            "visibility": null,
            "width": "50%"
          }
        },
        "604b94b238f644e6bf6155aa4032bcb6": {
          "model_module": "@jupyter-widgets/base",
          "model_name": "LayoutModel",
          "model_module_version": "1.2.0",
          "state": {
            "_model_module": "@jupyter-widgets/base",
            "_model_module_version": "1.2.0",
            "_model_name": "LayoutModel",
            "_view_count": null,
            "_view_module": "@jupyter-widgets/base",
            "_view_module_version": "1.2.0",
            "_view_name": "LayoutView",
            "align_content": null,
            "align_items": null,
            "align_self": null,
            "border": null,
            "bottom": null,
            "display": null,
            "flex": null,
            "flex_flow": null,
            "grid_area": null,
            "grid_auto_columns": null,
            "grid_auto_flow": null,
            "grid_auto_rows": null,
            "grid_column": null,
            "grid_gap": null,
            "grid_row": null,
            "grid_template_areas": null,
            "grid_template_columns": null,
            "grid_template_rows": null,
            "height": null,
            "justify_content": null,
            "justify_items": null,
            "left": null,
            "margin": null,
            "max_height": null,
            "max_width": null,
            "min_height": null,
            "min_width": null,
            "object_fit": null,
            "object_position": null,
            "order": null,
            "overflow": null,
            "overflow_x": null,
            "overflow_y": null,
            "padding": null,
            "right": null,
            "top": null,
            "visibility": null,
            "width": null
          }
        },
        "bea8e60c867f49808ecf202f51d6d7f2": {
          "model_module": "@jupyter-widgets/controls",
          "model_name": "DescriptionStyleModel",
          "model_module_version": "1.5.0",
          "state": {
            "_model_module": "@jupyter-widgets/controls",
            "_model_module_version": "1.5.0",
            "_model_name": "DescriptionStyleModel",
            "_view_count": null,
            "_view_module": "@jupyter-widgets/base",
            "_view_module_version": "1.2.0",
            "_view_name": "StyleView",
            "description_width": ""
          }
        },
        "b4b18495cf9a4b4091563b03e36a85eb": {
          "model_module": "@jupyter-widgets/base",
          "model_name": "LayoutModel",
          "model_module_version": "1.2.0",
          "state": {
            "_model_module": "@jupyter-widgets/base",
            "_model_module_version": "1.2.0",
            "_model_name": "LayoutModel",
            "_view_count": null,
            "_view_module": "@jupyter-widgets/base",
            "_view_module_version": "1.2.0",
            "_view_name": "LayoutView",
            "align_content": null,
            "align_items": null,
            "align_self": null,
            "border": null,
            "bottom": null,
            "display": null,
            "flex": null,
            "flex_flow": null,
            "grid_area": null,
            "grid_auto_columns": null,
            "grid_auto_flow": null,
            "grid_auto_rows": null,
            "grid_column": null,
            "grid_gap": null,
            "grid_row": null,
            "grid_template_areas": null,
            "grid_template_columns": null,
            "grid_template_rows": null,
            "height": null,
            "justify_content": null,
            "justify_items": null,
            "left": null,
            "margin": null,
            "max_height": null,
            "max_width": null,
            "min_height": null,
            "min_width": null,
            "object_fit": null,
            "object_position": null,
            "order": null,
            "overflow": null,
            "overflow_x": null,
            "overflow_y": null,
            "padding": null,
            "right": null,
            "top": null,
            "visibility": null,
            "width": null
          }
        },
        "e0c10006be3b4efbbae1a15257d69f35": {
          "model_module": "@jupyter-widgets/controls",
          "model_name": "DescriptionStyleModel",
          "model_module_version": "1.5.0",
          "state": {
            "_model_module": "@jupyter-widgets/controls",
            "_model_module_version": "1.5.0",
            "_model_name": "DescriptionStyleModel",
            "_view_count": null,
            "_view_module": "@jupyter-widgets/base",
            "_view_module_version": "1.2.0",
            "_view_name": "StyleView",
            "description_width": ""
          }
        },
        "f9940062a063448685fec76ca70ebcbc": {
          "model_module": "@jupyter-widgets/base",
          "model_name": "LayoutModel",
          "model_module_version": "1.2.0",
          "state": {
            "_model_module": "@jupyter-widgets/base",
            "_model_module_version": "1.2.0",
            "_model_name": "LayoutModel",
            "_view_count": null,
            "_view_module": "@jupyter-widgets/base",
            "_view_module_version": "1.2.0",
            "_view_name": "LayoutView",
            "align_content": null,
            "align_items": null,
            "align_self": null,
            "border": null,
            "bottom": null,
            "display": null,
            "flex": null,
            "flex_flow": null,
            "grid_area": null,
            "grid_auto_columns": null,
            "grid_auto_flow": null,
            "grid_auto_rows": null,
            "grid_column": null,
            "grid_gap": null,
            "grid_row": null,
            "grid_template_areas": null,
            "grid_template_columns": null,
            "grid_template_rows": null,
            "height": null,
            "justify_content": null,
            "justify_items": null,
            "left": null,
            "margin": null,
            "max_height": null,
            "max_width": null,
            "min_height": null,
            "min_width": null,
            "object_fit": null,
            "object_position": null,
            "order": null,
            "overflow": null,
            "overflow_x": null,
            "overflow_y": null,
            "padding": null,
            "right": null,
            "top": null,
            "visibility": null,
            "width": null
          }
        },
        "4ebd75e30b9346faadb9d4218212d679": {
          "model_module": "@jupyter-widgets/controls",
          "model_name": "DescriptionStyleModel",
          "model_module_version": "1.5.0",
          "state": {
            "_model_module": "@jupyter-widgets/controls",
            "_model_module_version": "1.5.0",
            "_model_name": "DescriptionStyleModel",
            "_view_count": null,
            "_view_module": "@jupyter-widgets/base",
            "_view_module_version": "1.2.0",
            "_view_name": "StyleView",
            "description_width": ""
          }
        },
        "0ebb9ff1031447ae902c463c440f4544": {
          "model_module": "@jupyter-widgets/base",
          "model_name": "LayoutModel",
          "model_module_version": "1.2.0",
          "state": {
            "_model_module": "@jupyter-widgets/base",
            "_model_module_version": "1.2.0",
            "_model_name": "LayoutModel",
            "_view_count": null,
            "_view_module": "@jupyter-widgets/base",
            "_view_module_version": "1.2.0",
            "_view_name": "LayoutView",
            "align_content": null,
            "align_items": null,
            "align_self": null,
            "border": null,
            "bottom": null,
            "display": null,
            "flex": null,
            "flex_flow": null,
            "grid_area": null,
            "grid_auto_columns": null,
            "grid_auto_flow": null,
            "grid_auto_rows": null,
            "grid_column": null,
            "grid_gap": null,
            "grid_row": null,
            "grid_template_areas": null,
            "grid_template_columns": null,
            "grid_template_rows": null,
            "height": null,
            "justify_content": null,
            "justify_items": null,
            "left": null,
            "margin": null,
            "max_height": null,
            "max_width": null,
            "min_height": null,
            "min_width": null,
            "object_fit": null,
            "object_position": null,
            "order": null,
            "overflow": null,
            "overflow_x": null,
            "overflow_y": null,
            "padding": null,
            "right": null,
            "top": null,
            "visibility": null,
            "width": null
          }
        },
        "6e55e7c60ef846f18bb3224024db9314": {
          "model_module": "@jupyter-widgets/controls",
          "model_name": "ButtonStyleModel",
          "model_module_version": "1.5.0",
          "state": {
            "_model_module": "@jupyter-widgets/controls",
            "_model_module_version": "1.5.0",
            "_model_name": "ButtonStyleModel",
            "_view_count": null,
            "_view_module": "@jupyter-widgets/base",
            "_view_module_version": "1.2.0",
            "_view_name": "StyleView",
            "button_color": null,
            "font_weight": ""
          }
        },
        "155d991e9ea8491d9027d52e588e0701": {
          "model_module": "@jupyter-widgets/base",
          "model_name": "LayoutModel",
          "model_module_version": "1.2.0",
          "state": {
            "_model_module": "@jupyter-widgets/base",
            "_model_module_version": "1.2.0",
            "_model_name": "LayoutModel",
            "_view_count": null,
            "_view_module": "@jupyter-widgets/base",
            "_view_module_version": "1.2.0",
            "_view_name": "LayoutView",
            "align_content": null,
            "align_items": null,
            "align_self": null,
            "border": null,
            "bottom": null,
            "display": null,
            "flex": null,
            "flex_flow": null,
            "grid_area": null,
            "grid_auto_columns": null,
            "grid_auto_flow": null,
            "grid_auto_rows": null,
            "grid_column": null,
            "grid_gap": null,
            "grid_row": null,
            "grid_template_areas": null,
            "grid_template_columns": null,
            "grid_template_rows": null,
            "height": null,
            "justify_content": null,
            "justify_items": null,
            "left": null,
            "margin": null,
            "max_height": null,
            "max_width": null,
            "min_height": null,
            "min_width": null,
            "object_fit": null,
            "object_position": null,
            "order": null,
            "overflow": null,
            "overflow_x": null,
            "overflow_y": null,
            "padding": null,
            "right": null,
            "top": null,
            "visibility": null,
            "width": null
          }
        },
        "f2593294635442658d7af5cd8a2f91ee": {
          "model_module": "@jupyter-widgets/controls",
          "model_name": "DescriptionStyleModel",
          "model_module_version": "1.5.0",
          "state": {
            "_model_module": "@jupyter-widgets/controls",
            "_model_module_version": "1.5.0",
            "_model_name": "DescriptionStyleModel",
            "_view_count": null,
            "_view_module": "@jupyter-widgets/base",
            "_view_module_version": "1.2.0",
            "_view_name": "StyleView",
            "description_width": ""
          }
        }
      }
    }
  },
  "nbformat": 4,
  "nbformat_minor": 0
}